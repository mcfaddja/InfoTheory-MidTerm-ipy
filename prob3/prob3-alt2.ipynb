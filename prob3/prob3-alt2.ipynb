{
 "cells": [
  {
   "cell_type": "markdown",
   "metadata": {},
   "source": [
    "# Problem 3 (*alt2*)\n",
    "\n",
    "We have three parts:\n",
    "\n",
    "* Imports, global function definitions, and text import.\n",
    "    * Import required libraries (*i.e. time, csv, etc*)\n",
    "    * Define any required global functions\n",
    "    * Import the text to work with from its .txt file\n",
    "* Work for the LZ-Compression part\n",
    "* Work for the LZ-DEcompression part\n",
    "\n",
    "Thus, we now move to imports, global function definitions, and text import.\n",
    "\n",
    "## Imports, Global Function Definitions, and Text-File Import.\n",
    "\n",
    "We start with library imports.\n",
    "\n",
    "### Library Imports\n",
    "\n",
    "We require the **time**"
   ]
  },
  {
   "cell_type": "code",
   "execution_count": 1,
   "metadata": {},
   "outputs": [],
   "source": [
    "import time"
   ]
  },
  {
   "cell_type": "markdown",
   "metadata": {},
   "source": [
    "the **csv**"
   ]
  },
  {
   "cell_type": "code",
   "execution_count": 2,
   "metadata": {},
   "outputs": [],
   "source": [
    "import csv"
   ]
  },
  {
   "cell_type": "markdown",
   "metadata": {},
   "source": [
    "and the **requests** libraries"
   ]
  },
  {
   "cell_type": "code",
   "execution_count": 3,
   "metadata": {},
   "outputs": [],
   "source": [
    "import requests"
   ]
  },
  {
   "cell_type": "markdown",
   "metadata": {},
   "source": [
    "Then we move on to global function definitions.\n",
    "\n",
    "### Global Function Definitions\n",
    "\n",
    "We require four global functions.  These are\n",
    "\n",
    "* A text-file reader\n",
    "* A text-file writer\n",
    "* A csv-file reader\n",
    "* A csv-file writer"
   ]
  },
  {
   "cell_type": "markdown",
   "metadata": {},
   "source": [
    "#### Text-File Reader\n",
    "\n",
    "We start with a text-file reader"
   ]
  },
  {
   "cell_type": "code",
   "execution_count": 4,
   "metadata": {},
   "outputs": [],
   "source": [
    "def fileRDR(filename):\n",
    "    with open(filename, 'r') as myTextFileIn:\n",
    "        myTextIn = myTextFileIn.read();\n",
    "    \n",
    "        myTextFileIn.close()\n",
    "        \n",
    "    \n",
    "    return myTextIn"
   ]
  },
  {
   "cell_type": "markdown",
   "metadata": {},
   "source": [
    "#### Text-File Writer\n",
    "\n",
    "We continue with a text-file writer"
   ]
  },
  {
   "cell_type": "code",
   "execution_count": 5,
   "metadata": {},
   "outputs": [],
   "source": [
    "def fileWTR(filename, strToWrite):\n",
    "    with open(filename, 'w') as myTextFileOut:\n",
    "        myTextFileOut.write(strToWrite)\n",
    "        \n",
    "        myTextFileOut.close()\n",
    "        \n",
    "        \n",
    "    return None"
   ]
  },
  {
   "cell_type": "markdown",
   "metadata": {},
   "source": [
    "#### CSV-File reader\n",
    "\n",
    "We follow that with a csv-file reader"
   ]
  },
  {
   "cell_type": "code",
   "execution_count": 6,
   "metadata": {},
   "outputs": [],
   "source": [
    "def csvFileRDR(filename):\n",
    "    csvOUT = []\n",
    "    \n",
    "    with open(filename, 'r') as myCSVfileIn:\n",
    "        csvReader = csv.reader(x for x in myCSVfileIn)\n",
    "        \n",
    "        for row in csvReader:\n",
    "            temp = row\n",
    "            csvOUT.append(temp)\n",
    "            \n",
    "        myCSVfileIn.close()\n",
    "        \n",
    "        \n",
    "    return csvOUT"
   ]
  },
  {
   "cell_type": "markdown",
   "metadata": {},
   "source": [
    "#### CSV-File Writer\n",
    "\n",
    "We finish with a csv-file writer"
   ]
  },
  {
   "cell_type": "code",
   "execution_count": 7,
   "metadata": {},
   "outputs": [],
   "source": [
    "def csvFileWTR(filename, arrayToWrite):\n",
    "    with open(filename, 'w', newline='') as myCSVfileOut:\n",
    "        csvWriter = csv.writer(myCSVfileOut, delimiter=',',\n",
    "                            quotechar=' ', quoting=csv.QUOTE_MINIMAL)\n",
    "                               #dialect='excel')\n",
    "                               #delimiter=',', quotechar='|', quoting=csv.QUOTE_MINIMAL)\n",
    "        \n",
    "        for row in arrayToWrite:\n",
    "            csvWriter.writerow(row)\n",
    "            \n",
    "        myCSVfileOut.close()\n",
    "        \n",
    "    return None"
   ]
  },
  {
   "cell_type": "markdown",
   "metadata": {},
   "source": [
    "### Text Import\n",
    "\n",
    "We will now import two different text-files for use in this problem.\n",
    "\n",
    "#### Tom Sawyer\n",
    "\n",
    "The first, is \"*Tom Sawyer*\""
   ]
  },
  {
   "cell_type": "code",
   "execution_count": 8,
   "metadata": {},
   "outputs": [],
   "source": [
    "textInA = fileRDR('../Text-Files/sawyer-ascii.txt')"
   ]
  },
  {
   "cell_type": "markdown",
   "metadata": {},
   "source": [
    "#### King James Bible\n",
    "\n",
    "The second in the \"*King James version of the Bible*\""
   ]
  },
  {
   "cell_type": "code",
   "execution_count": 9,
   "metadata": {},
   "outputs": [],
   "source": [
    "textInB = fileRDR('../Text-Files/kingJames-ascii.txt')"
   ]
  },
  {
   "cell_type": "markdown",
   "metadata": {},
   "source": [
    "Having finished importing libraries, defining global functions, and importing the files we are going to work with, we move on to the work for LZ-Compression\n",
    "\n",
    "## LZ-Compression\n",
    "\n",
    "We will first define a method for compression a text file using the Lempel-Ziv Compression routine specified in the book."
   ]
  },
  {
   "cell_type": "code",
   "execution_count": 10,
   "metadata": {},
   "outputs": [],
   "source": [
    "def lzCompr(textIn):\n",
    "    \n",
    "    myDict = dict()\n",
    "    myAns = []\n",
    "    myResult = ''\n",
    "    myComp = ''\n",
    "    \n",
    "    \n",
    "    posCTR = 1\n",
    "    word = ''\n",
    "    for char in textIn:\n",
    "        wordNchar = word + char\n",
    "        \n",
    "        if (wordNchar in myDict):\n",
    "            word = wordNchar\n",
    "        else:\n",
    "            myDict[wordNchar] = posCTR\n",
    "            posCTR += 1\n",
    "            \n",
    "            if (len(wordNchar) == 1):\n",
    "                myAns.append([0, char])\n",
    "            else:\n",
    "                anINT = myDict[word]\n",
    "                myAns.append([anINT, char])\n",
    "                \n",
    "            word = ''\n",
    "            \n",
    "            \n",
    "    if (word):\n",
    "        anINT = myDict[word]\n",
    "        myAns.append([anINT])\n",
    "        \n",
    "    \n",
    "    for row in myAns:\n",
    "        for col in row:\n",
    "            myResult = myResult + str(col)\n",
    "            \n",
    "    \n",
    "    for row in myAns:\n",
    "        tst = 0\n",
    "        \n",
    "        for col in row:\n",
    "            \n",
    "            if tst == 0:\n",
    "                myComp = myComp + str(col) + ','\n",
    "            else:\n",
    "                myComp = myComp + str(col) + ';'\n",
    "                \n",
    "            tst += 1\n",
    "    \n",
    "    \n",
    "    myOut = [myAns, myResult, myComp]\t\n",
    "    \n",
    "    return myOut"
   ]
  },
  {
   "cell_type": "markdown",
   "metadata": {},
   "source": [
    "### Alternate Function\n",
    "\n",
    "We also define this alternate, and slightly simpler, function"
   ]
  },
  {
   "cell_type": "code",
   "execution_count": 11,
   "metadata": {},
   "outputs": [],
   "source": [
    "def lzComprA(textIn):\n",
    "    \n",
    "    myDict = dict()\n",
    "    myAns = []\n",
    "    \n",
    "    \n",
    "    posCTR = 1\n",
    "    word = ''\n",
    "    for char in textIn:\n",
    "        wordNchar = word + char\n",
    "        \n",
    "        if (wordNchar in myDict):\n",
    "            word = wordNchar\n",
    "        else:\n",
    "            myDict[wordNchar] = posCTR\n",
    "            posCTR += 1\n",
    "            \n",
    "            if (len(wordNchar) == 1):\n",
    "                myAns.append([0, char])\n",
    "            else:\n",
    "                anINT = myDict[word]\n",
    "                myAns.append([anINT, char])\n",
    "                \n",
    "            word = ''\n",
    "            \n",
    "            \n",
    "    if (word):\n",
    "        anINT = myDict[word]\n",
    "        myAns.append([anINT])\n",
    "        \n",
    "    \n",
    "    return myAns"
   ]
  },
  {
   "cell_type": "markdown",
   "metadata": {},
   "source": [
    "### Tom Sawyer\n",
    "\n",
    "Now, we can run and time the compression routine for *Tom Sawyer*.\n",
    "\n",
    "#### Initial Verion\n",
    "\n",
    "By using the first routine we defined"
   ]
  },
  {
   "cell_type": "code",
   "execution_count": 12,
   "metadata": {},
   "outputs": [],
   "source": [
    "t0 = time.time()\n",
    "compTextArrA = lzCompr(textInA)\n",
    "t1 = time.time()"
   ]
  },
  {
   "cell_type": "markdown",
   "metadata": {},
   "source": [
    "To get the results"
   ]
  },
  {
   "cell_type": "code",
   "execution_count": 13,
   "metadata": {},
   "outputs": [
    {
     "name": "stdout",
     "output_type": "stream",
     "text": [
      "\n",
      "\n",
      "# of characters in original version :  402665\n",
      "# of characters in formatted compressed version :  540258\n",
      "# of characters in NON-formatted compressed version :  393457\n",
      "compression ratio of formatted compressed version :  1.341705884544224\n",
      "compression ratio of NON-formatted compressed version :  0.9771323556802801\n",
      "total runtime :  2.377018928527832 sec\n",
      "DONE DONE DONE !!!\n",
      "\n",
      "\n"
     ]
    }
   ],
   "source": [
    "formCompText = compTextArrA[2]\n",
    "noFormCompText = compTextArrA[1]\n",
    "\n",
    "tTot = t1 - t0\n",
    "origTextLEN = len(textInA)\n",
    "formCompTextLEN = len(formCompText)\n",
    "noFormCompTextLEN = len(noFormCompText)\n",
    "\n",
    "perCnoF = noFormCompTextLEN / origTextLEN\n",
    "perCisF = formCompTextLEN / origTextLEN\n",
    "\n",
    "print('\\n')\n",
    "print('# of characters in original version :  ' + str(origTextLEN))\n",
    "print('# of characters in formatted compressed version :  ' + str(formCompTextLEN))\n",
    "print('# of characters in NON-formatted compressed version :  ' + str(noFormCompTextLEN))\n",
    "print('compression ratio of formatted compressed version :  ' + str(perCisF))\n",
    "print('compression ratio of NON-formatted compressed version :  ' + str(perCnoF))\n",
    "print('total runtime :  ' + str(tTot) + ' sec')\n",
    "print('DONE DONE DONE !!!')\n",
    "print('\\n')"
   ]
  },
  {
   "cell_type": "markdown",
   "metadata": {},
   "source": [
    "#### Alternate Version\n",
    "\n",
    "And then compress *Tom Sawyer* again, this time using the alternate version of the routine."
   ]
  },
  {
   "cell_type": "code",
   "execution_count": 14,
   "metadata": {},
   "outputs": [],
   "source": [
    "t0 = time.time()\n",
    "compTextArrAa = lzComprA(textInA)\n",
    "t1 = time.time()"
   ]
  },
  {
   "cell_type": "markdown",
   "metadata": {},
   "source": [
    "To get the results"
   ]
  },
  {
   "cell_type": "code",
   "execution_count": 15,
   "metadata": {},
   "outputs": [
    {
     "name": "stdout",
     "output_type": "stream",
     "text": [
      "\n",
      "\n",
      "# of characters in original version :  402665\n",
      "# of characters in formatted compressed version :  2\n",
      "# of characters in NON-formatted compressed version :  2\n",
      "compression ratio of formatted compressed version :  4.9669079756124815e-06\n",
      "compression ratio of NON-formatted compressed version :  4.9669079756124815e-06\n",
      "total runtime :  0.1863260269165039 sec\n",
      "DONE DONE DONE !!!\n",
      "\n",
      "\n"
     ]
    }
   ],
   "source": [
    "formCompText = compTextArrAa[2]\n",
    "noFormCompText = compTextArrAa[1]\n",
    "\n",
    "tTot = t1 - t0\n",
    "origTextLEN = len(textInA)\n",
    "formCompTextLEN = len(formCompText)\n",
    "noFormCompTextLEN = len(noFormCompText)\n",
    "\n",
    "perCnoF = noFormCompTextLEN / origTextLEN\n",
    "perCisF = formCompTextLEN / origTextLEN\n",
    "\n",
    "print('\\n')\n",
    "print('# of characters in original version :  ' + str(origTextLEN))\n",
    "print('# of characters in formatted compressed version :  ' + str(formCompTextLEN))\n",
    "print('# of characters in NON-formatted compressed version :  ' + str(noFormCompTextLEN))\n",
    "print('compression ratio of formatted compressed version :  ' + str(perCisF))\n",
    "print('compression ratio of NON-formatted compressed version :  ' + str(perCnoF))\n",
    "print('total runtime :  ' + str(tTot) + ' sec')\n",
    "print('DONE DONE DONE !!!')\n",
    "print('\\n')"
   ]
  },
  {
   "cell_type": "markdown",
   "metadata": {},
   "source": [
    "### King James Version of the Bible\n",
    "\n",
    "Now, we can run and time the compression routine for *King James Version of the Bible*.\n",
    "\n",
    "#### Initial Verion\n",
    "\n",
    "By using the first routine we defined"
   ]
  },
  {
   "cell_type": "code",
   "execution_count": 16,
   "metadata": {},
   "outputs": [],
   "source": [
    "t0 = time.time()\n",
    "compTextArrB = lzCompr(textInB)\n",
    "t1 = time.time()"
   ]
  },
  {
   "cell_type": "markdown",
   "metadata": {},
   "source": [
    "To get the results"
   ]
  },
  {
   "cell_type": "code",
   "execution_count": 17,
   "metadata": {},
   "outputs": [
    {
     "name": "stdout",
     "output_type": "stream",
     "text": [
      "\n",
      "\n",
      "# of characters in original version :  4351875\n",
      "# of characters in formatted compressed version :  4598217\n",
      "# of characters in NON-formatted compressed version :  3499160\n",
      "compression ratio of formatted compressed version :  1.0566059457130548\n",
      "compression ratio of NON-formatted compressed version :  0.8040580209679736\n",
      "total runtime :  352.93959760665894 sec\n",
      "DONE DONE DONE !!!\n",
      "\n",
      "\n"
     ]
    }
   ],
   "source": [
    "formCompText = compTextArrB[2]\n",
    "noFormCompText = compTextArrB[1]\n",
    "\n",
    "tTot = t1 - t0\n",
    "origTextLEN = len(textInB)\n",
    "formCompTextLEN = len(formCompText)\n",
    "noFormCompTextLEN = len(noFormCompText)\n",
    "\n",
    "perCnoF = noFormCompTextLEN / origTextLEN\n",
    "perCisF = formCompTextLEN / origTextLEN\n",
    "\n",
    "print('\\n')\n",
    "print('# of characters in original version :  ' + str(origTextLEN))\n",
    "print('# of characters in formatted compressed version :  ' + str(formCompTextLEN))\n",
    "print('# of characters in NON-formatted compressed version :  ' + str(noFormCompTextLEN))\n",
    "print('compression ratio of formatted compressed version :  ' + str(perCisF))\n",
    "print('compression ratio of NON-formatted compressed version :  ' + str(perCnoF))\n",
    "print('total runtime :  ' + str(tTot) + ' sec')\n",
    "print('DONE DONE DONE !!!')\n",
    "print('\\n')"
   ]
  },
  {
   "cell_type": "markdown",
   "metadata": {},
   "source": [
    "#### Alternate Version\n",
    "\n",
    "And then compress *The King James Version of the Bible* again, this time using the alternate version of the routine."
   ]
  },
  {
   "cell_type": "code",
   "execution_count": 18,
   "metadata": {},
   "outputs": [],
   "source": [
    "t0 = time.time()\n",
    "compTextArrBa = lzComprA(textInB)\n",
    "t1 = time.time()"
   ]
  },
  {
   "cell_type": "markdown",
   "metadata": {},
   "source": [
    "To get the results"
   ]
  },
  {
   "cell_type": "code",
   "execution_count": 19,
   "metadata": {},
   "outputs": [
    {
     "name": "stdout",
     "output_type": "stream",
     "text": [
      "\n",
      "\n",
      "# of characters in original version :  4351875\n",
      "# of characters in formatted compressed version :  2\n",
      "# of characters in NON-formatted compressed version :  2\n",
      "compression ratio of formatted compressed version :  4.595720235530662e-07\n",
      "compression ratio of NON-formatted compressed version :  4.595720235530662e-07\n",
      "total runtime :  2.0846071243286133 sec\n",
      "DONE DONE DONE !!!\n",
      "\n",
      "\n"
     ]
    }
   ],
   "source": [
    "formCompText = compTextArrBa[2]\n",
    "noFormCompText = compTextArrBa[1]\n",
    "\n",
    "tTot = t1 - t0\n",
    "origTextLEN = len(textInB)\n",
    "formCompTextLEN = len(formCompText)\n",
    "noFormCompTextLEN = len(noFormCompText)\n",
    "\n",
    "perCnoF = noFormCompTextLEN / origTextLEN\n",
    "perCisF = formCompTextLEN / origTextLEN\n",
    "\n",
    "print('\\n')\n",
    "print('# of characters in original version :  ' + str(origTextLEN))\n",
    "print('# of characters in formatted compressed version :  ' + str(formCompTextLEN))\n",
    "print('# of characters in NON-formatted compressed version :  ' + str(noFormCompTextLEN))\n",
    "print('compression ratio of formatted compressed version :  ' + str(perCisF))\n",
    "print('compression ratio of NON-formatted compressed version :  ' + str(perCnoF))\n",
    "print('total runtime :  ' + str(tTot) + ' sec')\n",
    "print('DONE DONE DONE !!!')\n",
    "print('\\n')"
   ]
  },
  {
   "cell_type": "markdown",
   "metadata": {},
   "source": [
    "With the compression part done, we move on to LZ Decompression\n",
    "\n",
    "## LZ-Decompression\n",
    "\n",
    "We will first define a method for decompression a compressed| text file using the Lempel-Ziv Compression routine specified in the book."
   ]
  },
  {
   "cell_type": "code",
   "execution_count": null,
   "metadata": {},
   "outputs": [],
   "source": [
    "def lzDEcompr(inArray):\n",
    "    mySize = len(inArray)\n",
    "    mySize1 = mySize - 1\n",
    "\n",
    "    myEndSize = len(inArray[mySize - 1])\n",
    "    \n",
    "    deCompText = \"\"\n",
    "\n",
    "    for i in range(mySize1):\n",
    "        row = inArray[i]\n",
    "        \n",
    "        numNow = row[0]\n",
    "        charNow = row[1]\n",
    "\n",
    "        if (numNow == 0):\n",
    "            deCompText += charNow\n",
    "        else:\n",
    "            wordNow = charNow\n",
    "\n",
    "            while (numNow != 0):\n",
    "                newRow = inArray[numNow]\n",
    "\n",
    "                charNow = newRow[1]\n",
    "                wordNow = charNow + wordNow\n",
    "\n",
    "                numNow = newRow[0]\n",
    "            \n",
    "            deCompText += wordNow\n",
    "        \n",
    "    \n",
    "    row = inArray[mySize1]\n",
    "    numNow = row[0]\n",
    "    charNow = ''\n",
    "    if (myEndSize == 1):\n",
    "        rowNow = inArray[numNow]\n",
    "\n",
    "        charNow = rowNow[1]\n",
    "        numNow = rowNow[0]\n",
    "    else:\n",
    "        charNow = row[1]\n",
    "\n",
    "    if (numNow == 0):\n",
    "        deCompText += charNow\n",
    "    else:\n",
    "        wordNow = charNow\n",
    "\n",
    "        while (numNow != 0):\n",
    "            newRowNow = inArray[numNow]\n",
    "\n",
    "            charNow = newRowNow[1]\n",
    "            wordNow = charNow + wordNow\n",
    "\n",
    "            numNow = newRowNow[0]\n",
    "\n",
    "        deCompText += wordNow\n",
    "\n",
    "\n",
    "    return deCompText"
   ]
  },
  {
   "cell_type": "markdown",
   "metadata": {},
   "source": [
    "### Run on Compressed Tom Sawyer\n",
    "\n",
    "First, we run the decompression routine on the compressed *Tom Sawyer*."
   ]
  },
  {
   "cell_type": "code",
   "execution_count": null,
   "metadata": {},
   "outputs": [],
   "source": [
    "t0 = time.time()\n",
    "tomDecomp = lzDEcompr(compTextArrAa)\n",
    "t1 = time.time()"
   ]
  },
  {
   "cell_type": "markdown",
   "metadata": {},
   "source": [
    "Then compare the lengths"
   ]
  },
  {
   "cell_type": "code",
   "execution_count": null,
   "metadata": {},
   "outputs": [],
   "source": [
    "print(len(textInA))\n",
    "print(len(tomDecomp))"
   ]
  },
  {
   "cell_type": "markdown",
   "metadata": {},
   "source": [
    "and the texts themselves"
   ]
  },
  {
   "cell_type": "code",
   "execution_count": null,
   "metadata": {},
   "outputs": [],
   "source": [
    "tomDecomp == textInA"
   ]
  },
  {
   "cell_type": "markdown",
   "metadata": {},
   "source": [
    "and, finally, and elapsed time"
   ]
  },
  {
   "cell_type": "code",
   "execution_count": null,
   "metadata": {},
   "outputs": [],
   "source": [
    "tTOT = t1 - t0\n",
    "print(tTOT)"
   ]
  },
  {
   "cell_type": "markdown",
   "metadata": {},
   "source": [
    "### Run on Compressed King James Version of the Bible\n",
    "\n",
    "First, we run the decompression routine on the compressed *King James Version of the Bible*."
   ]
  },
  {
   "cell_type": "code",
   "execution_count": null,
   "metadata": {},
   "outputs": [],
   "source": [
    "t0 = time.time()\n",
    "bibleDecomp = lzDEcompr(compTextArrBa)\n",
    "t1 = time.time()"
   ]
  },
  {
   "cell_type": "markdown",
   "metadata": {},
   "source": [
    "Then compare the lengths"
   ]
  },
  {
   "cell_type": "code",
   "execution_count": null,
   "metadata": {},
   "outputs": [],
   "source": [
    "print(len(textInB))\n",
    "print(len(bibleDecomp))"
   ]
  },
  {
   "cell_type": "markdown",
   "metadata": {},
   "source": [
    "and the texts themselves"
   ]
  },
  {
   "cell_type": "code",
   "execution_count": null,
   "metadata": {},
   "outputs": [],
   "source": [
    "textInB == bibleDecomp"
   ]
  },
  {
   "cell_type": "markdown",
   "metadata": {},
   "source": [
    "and, finally, and elapsed time"
   ]
  },
  {
   "cell_type": "code",
   "execution_count": null,
   "metadata": {},
   "outputs": [],
   "source": [
    "tTOT = t1 - t0\n",
    "print(tTOT)"
   ]
  },
  {
   "cell_type": "code",
   "execution_count": null,
   "metadata": {},
   "outputs": [],
   "source": []
  }
 ],
 "metadata": {
  "kernelspec": {
   "display_name": "Python 3",
   "language": "python",
   "name": "python3"
  },
  "language_info": {
   "codemirror_mode": {
    "name": "ipython",
    "version": 3
   },
   "file_extension": ".py",
   "mimetype": "text/x-python",
   "name": "python",
   "nbconvert_exporter": "python",
   "pygments_lexer": "ipython3",
   "version": "3.6.3"
  }
 },
 "nbformat": 4,
 "nbformat_minor": 2
}
