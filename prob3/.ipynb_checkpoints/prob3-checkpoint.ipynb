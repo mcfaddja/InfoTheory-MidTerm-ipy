{
 "cells": [
  {
   "cell_type": "markdown",
   "metadata": {},
   "source": [
    "# Problem 3\n",
    "\n",
    "We have three parts:\n",
    "\n",
    "* Imports, global function definitions, and text import.\n",
    "    * Import required libraries (*i.e. time, csv, etc*)\n",
    "    * Define any required global functions\n",
    "    * Import the text to work with from its .txt file\n",
    "* Work for the LZ-Compression part\n",
    "* Work for the LZ-DEcompression part\n",
    "\n",
    "Thus, we now move to imports, global function definitions, and text import.\n",
    "\n",
    "## Imports, Global Function Definitions, and Text-File Import.\n",
    "\n",
    "We start with library imports.\n",
    "\n",
    "### Library Imports\n",
    "\n",
    "We require the **time**"
   ]
  },
  {
   "cell_type": "code",
   "execution_count": 1,
   "metadata": {},
   "outputs": [],
   "source": [
    "import time"
   ]
  },
  {
   "cell_type": "markdown",
   "metadata": {},
   "source": [
    "the **csv**"
   ]
  },
  {
   "cell_type": "code",
   "execution_count": 2,
   "metadata": {},
   "outputs": [],
   "source": [
    "import csv"
   ]
  },
  {
   "cell_type": "markdown",
   "metadata": {},
   "source": [
    "and the **requests** libraries"
   ]
  },
  {
   "cell_type": "code",
   "execution_count": 3,
   "metadata": {},
   "outputs": [],
   "source": [
    "import requests"
   ]
  },
  {
   "cell_type": "markdown",
   "metadata": {},
   "source": [
    "Then we move on to global function definitions.\n",
    "\n",
    "### Global Function Definitions\n",
    "\n",
    "We require four global functions.  These are\n",
    "\n",
    "* A text-file reader\n",
    "* A text-file writer\n",
    "* A csv-file reader\n",
    "* A csv-file writer"
   ]
  },
  {
   "cell_type": "code",
   "execution_count": null,
   "metadata": {},
   "outputs": [],
   "source": []
  }
 ],
 "metadata": {
  "kernelspec": {
   "display_name": "Python 3",
   "language": "python",
   "name": "python3"
  },
  "language_info": {
   "codemirror_mode": {
    "name": "ipython",
    "version": 3
   },
   "file_extension": ".py",
   "mimetype": "text/x-python",
   "name": "python",
   "nbconvert_exporter": "python",
   "pygments_lexer": "ipython3",
   "version": "3.6.3"
  }
 },
 "nbformat": 4,
 "nbformat_minor": 2
}
