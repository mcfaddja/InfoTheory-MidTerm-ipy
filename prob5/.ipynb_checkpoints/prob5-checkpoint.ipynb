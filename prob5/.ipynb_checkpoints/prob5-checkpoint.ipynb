{
 "cells": [
  {
   "cell_type": "markdown",
   "metadata": {},
   "source": [
    "# Problem 5\n",
    "\n",
    "First, we sum the probabilities  $$p_n = \\frac{0.1}{n}$$ for $n \\in \\left[ 0, 12367 \\right] \\subset \\mathbb{Z}^+$ to ensure the result is normal (*close to 1*)"
   ]
  },
  {
   "cell_type": "code",
   "execution_count": 1,
   "metadata": {},
   "outputs": [
    {
     "name": "stdout",
     "output_type": "stream",
     "text": [
      "1.0000043008275796\n"
     ]
    }
   ],
   "source": [
    "probSumNow = 0\n",
    "for i in range(12367):\n",
    "    probSumNow += 0.1 / (i + 1)\n",
    "\n",
    "print(probSumNow)"
   ]
  },
  {
   "cell_type": "markdown",
   "metadata": {},
   "source": [
    "Since the sum of the probabilities is reasonably close to 1, we proceed to calculate the entropies using $$H \\left( x \\right) = - \\sum_{n=1}^{12367} \\left\\{ \\frac{0.1}{n} \\log_2 \\left[ \\frac{0.1}{n} \\right] \\right\\}$$ to obtain"
   ]
  },
  {
   "cell_type": "code",
   "execution_count": 3,
   "metadata": {},
   "outputs": [
    {
     "name": "stdout",
     "output_type": "stream",
     "text": [
      "9.71625847652071\n"
     ]
    }
   ],
   "source": [
    "import math\n",
    "\n",
    "entropySumNow = 0\n",
    "for i in range(12367):\n",
    "    entropySumNow += - (0.1 / (i + 1)) * math.log2(0.1 / (i + 1))\n",
    "    \n",
    "print(entropySumNow)"
   ]
  }
 ],
 "metadata": {
  "kernelspec": {
   "display_name": "Python 3",
   "language": "python",
   "name": "python3"
  },
  "language_info": {
   "codemirror_mode": {
    "name": "ipython",
    "version": 3
   },
   "file_extension": ".py",
   "mimetype": "text/x-python",
   "name": "python",
   "nbconvert_exporter": "python",
   "pygments_lexer": "ipython3",
   "version": "3.6.3"
  }
 },
 "nbformat": 4,
 "nbformat_minor": 2
}
