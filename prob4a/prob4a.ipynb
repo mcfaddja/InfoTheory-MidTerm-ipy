{
 "cells": [
  {
   "cell_type": "markdown",
   "metadata": {},
   "source": [
    "# Problem 4 (a)\n",
    "\n",
    "First, import the **math** library"
   ]
  },
  {
   "cell_type": "code",
   "execution_count": 1,
   "metadata": {},
   "outputs": [],
   "source": [
    "import math\n",
    "import scipy.special"
   ]
  },
  {
   "cell_type": "markdown",
   "metadata": {},
   "source": [
    "Then move on to the formal math\n",
    "\n",
    "## Define R.V.s\n",
    "\n",
    "We define the random variables $X$ and $Y$ as\n",
    "\n",
    "* $X$ - The outcome of a series\n",
    "* $Y$ - The number of games in a series\n",
    "\n",
    "The R.V. $X$ has the probabilities\n",
    "\n",
    "* **A** wins in 5 :  $(0.5)^5 = 0.03125$ with multiplicity $1$\n",
    "* **A** wins in 6 :  $(0.5)^5 (0.5)^1 = 0.015625$ with multiplicity $\\binom{5}{4}$\n",
    "* **A** wins in 7 :  $(0.5)^5 (0.5)^2 = 0.0078125$ with multiplicity $\\binom{6}{4}$\n",
    "* **A** wins in 8 :  $(0.5)^5 (0.5)^3 = 0.00390625$ with multiplicity $\\binom{7}{4}$\n",
    "* **A** wins in 9 :  $(0.5)^5 (0.5)^4 = 0.00195313$ with multiplicity $\\binom{8}{4}$\n",
    "* **B** wins in 5 :  $(0.5)^5 = 0.03125$ with multiplicity $1$\n",
    "* **B** wins in 6 :  $(0.5)^5 (0.5)^1 = 0.015625$ with multiplicity $\\binom{5}{4}$\n",
    "* **B** wins in 7 :  $(0.5)^5 (0.5)^2 = 0.0078125$ with multiplicity $\\binom{6}{4}$\n",
    "* **B** wins in 8 :  $(0.5)^5 (0.5)^3 = 0.00390625$ with multiplicity $\\binom{7}{4}$\n",
    "* **B** wins in 9 :  $(0.5)^5 (0.5)^4 = 0.00195313$ with multiplicity $\\binom{8}{4}$\n",
    "\n",
    "Thus, we define the probability and multiplicity arrays for $X$"
   ]
  },
  {
   "cell_type": "code",
   "execution_count": 2,
   "metadata": {},
   "outputs": [
    {
     "name": "stdout",
     "output_type": "stream",
     "text": [
      "[0.03125, 0.015625, 0.0078125, 0.00390625, 0.001953125, 0.03125, 0.015625, 0.0078125, 0.00390625, 0.001953125]\n",
      "10\n"
     ]
    }
   ],
   "source": [
    "probX = []\n",
    "probX.append((0.5)**5)\n",
    "probX.append(((0.5)**5)*((0.5)**1))\n",
    "probX.append(((0.5)**5)*((0.5)**2))\n",
    "probX.append(((0.5)**5)*((0.5)**3))\n",
    "probX.append(((0.5)**5)*((0.5)**4))\n",
    "probX.append((0.5)**5)\n",
    "probX.append(((0.5)**5)*((0.5)**1))\n",
    "probX.append(((0.5)**5)*((0.5)**2))\n",
    "probX.append(((0.5)**5)*((0.5)**3))\n",
    "probX.append(((0.5)**5)*((0.5)**4))\n",
    "\n",
    "print(probX)\n",
    "print(len(probX))"
   ]
  },
  {
   "cell_type": "code",
   "execution_count": 3,
   "metadata": {},
   "outputs": [
    {
     "name": "stdout",
     "output_type": "stream",
     "text": [
      "[1, 5.0, 15.0, 35.0, 70.0, 1, 5.0, 15.0, 35.0, 70.0]\n",
      "10\n"
     ]
    }
   ],
   "source": [
    "multX = []\n",
    "multX.append(1)\n",
    "multX.append(scipy.special.binom(5, 4))\n",
    "multX.append(scipy.special.binom(6, 4))\n",
    "multX.append(scipy.special.binom(7, 4))\n",
    "multX.append(scipy.special.binom(8, 4))\n",
    "multX.append(1)\n",
    "multX.append(scipy.special.binom(5, 4))\n",
    "multX.append(scipy.special.binom(6, 4))\n",
    "multX.append(scipy.special.binom(7, 4))\n",
    "multX.append(scipy.special.binom(8, 4))\n",
    "\n",
    "print(multX)\n",
    "print(len(multX))"
   ]
  },
  {
   "cell_type": "markdown",
   "metadata": {},
   "source": [
    "Now, the R.V. $Y$ has the probabilities\n",
    "\n",
    "* Series lasts 5 :  $2(0.5)^5 = 0.0625$\n",
    "* Series lasts 6 :  $2 \\binom{5}{4} (0.5)^5 (0.5)^1 = 0.15625$\n",
    "* Series lasts 7 :  $2 \\binom{5}{4} (0.5)^5 (0.5)^2 = 0.234375$\n",
    "* Series lasts 8 :  $2 \\binom{5}{4} (0.5)^5 (0.5)^3 = 0.273438$\n",
    "* Series lasts 9 :  $2 \\binom{5}{4} (0.5)^5 (0.5)^4 = 0.273438$\n",
    "\n",
    "Thus, we define the probability array for $Y$"
   ]
  },
  {
   "cell_type": "code",
   "execution_count": 4,
   "metadata": {},
   "outputs": [
    {
     "name": "stdout",
     "output_type": "stream",
     "text": [
      "[0.0625, 0.15625, 0.234375, 0.2734375, 0.2734375]\n",
      "5\n"
     ]
    }
   ],
   "source": [
    "probY = []\n",
    "probY.append(2*probX[0]*multX[0])\n",
    "probY.append(2*probX[1]*multX[1])\n",
    "probY.append(2*probX[2]*multX[2])\n",
    "probY.append(2*probX[3]*multX[3])\n",
    "probY.append(2*probX[4]*multX[4])\n",
    "\n",
    "print(probY)\n",
    "print(len(probY))"
   ]
  },
  {
   "cell_type": "markdown",
   "metadata": {},
   "source": [
    "Before computing the entropies $H(x)$ and $H(y)$, we check that the probabilities we calculated are normal"
   ]
  },
  {
   "cell_type": "code",
   "execution_count": 5,
   "metadata": {},
   "outputs": [
    {
     "name": "stdout",
     "output_type": "stream",
     "text": [
      "1.0\n",
      "1.0\n"
     ]
    }
   ],
   "source": [
    "xSum = 0\n",
    "ySum = 0\n",
    "for i in range(5):\n",
    "    xSum += 2 * probX[i] * multX[i]\n",
    "    ySum += probY[i]\n",
    "    \n",
    "print(xSum)\n",
    "print(ySum)"
   ]
  },
  {
   "cell_type": "markdown",
   "metadata": {},
   "source": [
    "Since the probabilities are normal, we can calculate $H(x)$ as"
   ]
  },
  {
   "cell_type": "code",
   "execution_count": 6,
   "metadata": {},
   "outputs": [
    {
     "name": "stdout",
     "output_type": "stream",
     "text": [
      "7.5390625\n"
     ]
    }
   ],
   "source": [
    "Hx = 0\n",
    "for i in range(10):\n",
    "    Hx += multX[i] * (- probX[i] * math.log2( probX[i] )) \n",
    "    \n",
    "print(Hx)"
   ]
  },
  {
   "cell_type": "markdown",
   "metadata": {},
   "source": [
    "and $H(y)$ as"
   ]
  },
  {
   "cell_type": "code",
   "execution_count": 7,
   "metadata": {},
   "outputs": [
    {
     "name": "stdout",
     "output_type": "stream",
     "text": [
      "2.18206960194\n"
     ]
    }
   ],
   "source": [
    "Hy = 0\n",
    "for i in range(5):\n",
    "    Hy += - probY[i] * math.log2( probY[i] )\n",
    "    \n",
    "print(Hy)"
   ]
  },
  {
   "cell_type": "markdown",
   "metadata": {},
   "source": [
    "Now, since $p(x,y)$ is"
   ]
  },
  {
   "cell_type": "code",
   "execution_count": 8,
   "metadata": {},
   "outputs": [
    {
     "name": "stdout",
     "output_type": "stream",
     "text": [
      "[[0.5, 0, 0, 0, 0], [0, 0.5, 0, 0, 0], [0, 0, 0.5, 0, 0], [0, 0, 0, 0.5, 0], [0, 0, 0, 0, 0.5], [0.5, 0, 0, 0, 0], [0, 0.5, 0, 0, 0], [0, 0, 0.5, 0, 0], [0, 0, 0, 0.5, 0], [0, 0, 0, 0, 0.5]]\n"
     ]
    }
   ],
   "source": [
    "probXY = []\n",
    "for i in range(10):\n",
    "    xyRow = []\n",
    "    for j in range(5):\n",
    "        if i == j:\n",
    "            xyRow.append(1/2)\n",
    "        elif i % 5 == j:\n",
    "            xyRow.append(1/2)\n",
    "        else:\n",
    "            xyRow.append(0)\n",
    "            \n",
    "    probXY.append(xyRow)\n",
    "        \n",
    "\n",
    "print(probXY)"
   ]
  },
  {
   "cell_type": "markdown",
   "metadata": {},
   "source": [
    "and $H(x, y)$ as"
   ]
  },
  {
   "cell_type": "code",
   "execution_count": 9,
   "metadata": {},
   "outputs": [
    {
     "name": "stdout",
     "output_type": "stream",
     "text": [
      "5.0\n"
     ]
    }
   ],
   "source": [
    "Hxy = 0\n",
    "for i in range(10):\n",
    "    for j in range(5):\n",
    "        tmpArr = probXY[i]\n",
    "        tmp = tmpArr[j]\n",
    "        \n",
    "        if tmp == 0:\n",
    "            Hxy = Hxy\n",
    "        else:\n",
    "            Hxy += - tmp * math.log2(tmp)\n",
    "            \n",
    "            \n",
    "print(Hxy)"
   ]
  },
  {
   "cell_type": "markdown",
   "metadata": {},
   "source": [
    "We also have the conditional probability $H(x \\mid y)$ as"
   ]
  },
  {
   "cell_type": "code",
   "execution_count": 10,
   "metadata": {},
   "outputs": [
    {
     "name": "stdout",
     "output_type": "stream",
     "text": [
      "2.29731956998\n"
     ]
    }
   ],
   "source": [
    "HxGIVy = 0\n",
    "for i in range(5):\n",
    "    # From player A winning in (i+5) games\n",
    "    tmpA = multX[i] * (- (probX[i]*probY[i]) * math.log2(probX[i]*probY[i]))\n",
    "    \n",
    "    # From player B winning in (i+5) games\n",
    "    tmpB = multX[i+5] * (- (probX[i+5]*probY[i]) * math.log2(probX[i]*probY[i]))\n",
    "    \n",
    "    tmpTOT = tmpA + tmpB\n",
    "    HxGIVy += tmpTOT\n",
    "    \n",
    "print(HxGIVy)"
   ]
  },
  {
   "cell_type": "markdown",
   "metadata": {},
   "source": [
    "As well as the conditional probability $H(y \\mid x)$ as"
   ]
  },
  {
   "cell_type": "code",
   "execution_count": 11,
   "metadata": {},
   "outputs": [
    {
     "name": "stdout",
     "output_type": "stream",
     "text": [
      "2.29731956998\n"
     ]
    }
   ],
   "source": [
    "HyGIVx = 0\n",
    "for i in range(10):\n",
    "    HyGIVx += multX[i] * (- probY[i % 5]*probX[i] * math.log2(probY[i % 5]*probX[i]))\n",
    "    \n",
    "print(HyGIVx)"
   ]
  },
  {
   "cell_type": "markdown",
   "metadata": {},
   "source": [
    "Using the relation $I(X; Y) = H(X) + H(Y) - H(X, Y)$, we have $I(X; Y)$ as"
   ]
  },
  {
   "cell_type": "code",
   "execution_count": 12,
   "metadata": {},
   "outputs": [
    {
     "name": "stdout",
     "output_type": "stream",
     "text": [
      "4.72113210194\n"
     ]
    }
   ],
   "source": [
    "Ixy = Hx + Hy - Hxy\n",
    "print(Ixy)"
   ]
  },
  {
   "cell_type": "markdown",
   "metadata": {},
   "source": [
    "Next, we need to define the distributions $pA$ (for $X$ when A wins) and $qA$ (for $Y$ when A wins).  The distribution $pA$ can be represented by the matrix"
   ]
  },
  {
   "cell_type": "code",
   "execution_count": 13,
   "metadata": {},
   "outputs": [
    {
     "name": "stdout",
     "output_type": "stream",
     "text": [
      "[0.0625, 0.15625, 0.234375, 0.2734375, 0.2734375]\n"
     ]
    }
   ],
   "source": [
    "pA = []\n",
    "for i in range(5):\n",
    "    tmp = multX[i] * (probX[i] + probX[i+5])\n",
    "    pA.append(tmp)\n",
    "    \n",
    "print(pA)"
   ]
  },
  {
   "cell_type": "markdown",
   "metadata": {},
   "source": [
    "Similarly, the distribution $qA$ can be represented by the matrix"
   ]
  },
  {
   "cell_type": "code",
   "execution_count": 14,
   "metadata": {},
   "outputs": [
    {
     "name": "stdout",
     "output_type": "stream",
     "text": [
      "[0.0625, 0.15625, 0.234375, 0.2734375, 0.2734375]\n"
     ]
    }
   ],
   "source": [
    "qA = []\n",
    "for i in range(5):\n",
    "    qA.append(probY[i])\n",
    "    \n",
    "print(qA)"
   ]
  },
  {
   "cell_type": "markdown",
   "metadata": {},
   "source": [
    "After checking these new distributions for normality, we proceed."
   ]
  },
  {
   "cell_type": "code",
   "execution_count": 15,
   "metadata": {},
   "outputs": [
    {
     "name": "stdout",
     "output_type": "stream",
     "text": [
      "1.0\n",
      "1.0\n"
     ]
    }
   ],
   "source": [
    "pAsum = 0\n",
    "qAsum = 0\n",
    "for i in range(5):\n",
    "    pAsum += pA[i]\n",
    "    qAsum += qA[i]\n",
    "    \n",
    "print(pAsum)\n",
    "print(qAsum)"
   ]
  },
  {
   "cell_type": "markdown",
   "metadata": {},
   "source": [
    "For $D( pA \\mid \\mid X )$ we have"
   ]
  },
  {
   "cell_type": "code",
   "execution_count": 16,
   "metadata": {},
   "outputs": [
    {
     "name": "stdout",
     "output_type": "stream",
     "text": [
      "5.35699289806\n"
     ]
    }
   ],
   "source": [
    "dPaX = 0\n",
    "for i in range(5):\n",
    "    dPaX += pA[i] * math.log2(pA[i] / probX[i])\n",
    "    \n",
    "print(dPaX)"
   ]
  },
  {
   "cell_type": "code",
   "execution_count": 17,
   "metadata": {},
   "outputs": [
    {
     "name": "stdout",
     "output_type": "stream",
     "text": [
      "1.0\n"
     ]
    }
   ],
   "source": [
    "dPaX = 0\n",
    "for i in range(5):\n",
    "    dPaX += pA[i] * math.log2(pA[i] / (multX[i]*probX[i]))\n",
    "    \n",
    "print(dPaX)"
   ]
  },
  {
   "cell_type": "markdown",
   "metadata": {},
   "source": [
    "and for $D(qA \\mid \\mid Y)$ we have"
   ]
  },
  {
   "cell_type": "code",
   "execution_count": 18,
   "metadata": {},
   "outputs": [
    {
     "name": "stdout",
     "output_type": "stream",
     "text": [
      "0.0\n"
     ]
    }
   ],
   "source": [
    "dQaY = 0\n",
    "for i in range(5):\n",
    "    dQaY += qA[i] * math.log2(qA[i] / probY[i])\n",
    "    \n",
    "print(dQaY)"
   ]
  }
 ],
 "metadata": {
  "kernelspec": {
   "display_name": "Python 3",
   "language": "python",
   "name": "python3"
  },
  "language_info": {
   "codemirror_mode": {
    "name": "ipython",
    "version": 3
   },
   "file_extension": ".py",
   "mimetype": "text/x-python",
   "name": "python",
   "nbconvert_exporter": "python",
   "pygments_lexer": "ipython3",
   "version": "3.6.3"
  }
 },
 "nbformat": 4,
 "nbformat_minor": 2
}
