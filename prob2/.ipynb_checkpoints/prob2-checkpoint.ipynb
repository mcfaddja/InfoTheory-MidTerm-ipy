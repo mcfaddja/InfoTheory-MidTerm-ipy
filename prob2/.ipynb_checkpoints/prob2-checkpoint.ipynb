{
 "cells": [
  {
   "cell_type": "markdown",
   "metadata": {},
   "source": [
    "# Problem 2\n",
    "\n",
    "We begin, as always, by importing required libraries followed by defining any functions we are going to create for later use.\n",
    "\n",
    "## Library Imports\n",
    "\n",
    "For this implementation, we will require Python's \"*heapq*\" library so that we can create a priority que."
   ]
  },
  {
   "cell_type": "code",
   "execution_count": 1,
   "metadata": {},
   "outputs": [],
   "source": [
    "import heapq"
   ]
  },
  {
   "cell_type": "markdown",
   "metadata": {},
   "source": [
    "We will also need the \"*csv*\" library so that we can read and write CSV files."
   ]
  },
  {
   "cell_type": "code",
   "execution_count": 2,
   "metadata": {},
   "outputs": [],
   "source": [
    "import csv"
   ]
  },
  {
   "cell_type": "markdown",
   "metadata": {},
   "source": [
    "Finally, we will need \"*time*\" library so that we can determine how long the compression and decompression processes run"
   ]
  },
  {
   "cell_type": "code",
   "execution_count": 3,
   "metadata": {},
   "outputs": [],
   "source": [
    "import time"
   ]
  },
  {
   "cell_type": "markdown",
   "metadata": {},
   "source": [
    "Now that we have imported all the required libraries, we can move on to defining **_OUR_** functions and subroutines.\n",
    "\n",
    "## Function Definitions\n",
    "\n",
    "We will need several functions of our own to both allow us to endcode/decode using Huffman codes, as a well as to make the later code easier to read and write by moving simple and/or repeated tasks to subroutines of their own.  These subroutines are \n",
    "\n",
    "* File Reader (*for text files*)\n",
    "* File Writer (*for text files*)\n",
    "* File Reader (*for CSV files*)\n",
    "* File Writer (*for CSV files*)\n",
    "* Dictionary Extractor\n",
    "* N-Gram Generator\n",
    "* Freqency Counter\n",
    "* Huffman Tree Maker\n",
    "* Huffman Code Builder\n",
    "\n",
    "We will also need an object class for\n",
    "\n",
    "* Huffman Nodes\n",
    "\n",
    "### File Reader (*for text files*)\n",
    "\n",
    "We start with the **File Reader** for text files.  We will name it _**fileRDR**_ and its code is"
   ]
  },
  {
   "cell_type": "code",
   "execution_count": 4,
   "metadata": {},
   "outputs": [],
   "source": [
    "def fileRDR(filename):\n",
    "    with open(filename, 'r') as myTextFileIn:\n",
    "        myTextIn = myTextFileIn.read();\n",
    "    \n",
    "        myTextFileIn.close()\n",
    "        \n",
    "    \n",
    "    return myTextIn"
   ]
  },
  {
   "cell_type": "markdown",
   "metadata": {},
   "source": [
    "#### Testing\n",
    "\n",
    "In order to test it, we define a string to have the same contents as those which occur in our *TestTextFile.txt* test file"
   ]
  },
  {
   "cell_type": "code",
   "execution_count": 5,
   "metadata": {},
   "outputs": [],
   "source": [
    "testText = \"This is a test text file\""
   ]
  },
  {
   "cell_type": "markdown",
   "metadata": {},
   "source": [
    "Then we import the file's contents to another string"
   ]
  },
  {
   "cell_type": "code",
   "execution_count": 6,
   "metadata": {},
   "outputs": [],
   "source": [
    "testTextIn = fileRDR(\"TestTextFile.txt\")"
   ]
  },
  {
   "cell_type": "markdown",
   "metadata": {},
   "source": [
    "Last, we check that they are the same and print the string if they are"
   ]
  },
  {
   "cell_type": "code",
   "execution_count": 7,
   "metadata": {},
   "outputs": [
    {
     "name": "stdout",
     "output_type": "stream",
     "text": [
      "This is a test text file\n"
     ]
    }
   ],
   "source": [
    "if testText == testTextIn:\n",
    "    print(testTextIn)\n",
    "else:\n",
    "    print(\"OOOPS!!!\")"
   ]
  },
  {
   "cell_type": "markdown",
   "metadata": {},
   "source": [
    "Since the text file reader works, we move on to the next subroutine.\n",
    "\n",
    "### File Writer (*for text files*)\n",
    "\n",
    "We continue with the **File Writer** for text files.  We will name it _**fileWTR**_ and its code is"
   ]
  },
  {
   "cell_type": "code",
   "execution_count": 8,
   "metadata": {},
   "outputs": [],
   "source": [
    "def fileWTR(filename, strToWrite):\n",
    "    with open(filename, 'w') as myTextFileOut:\n",
    "        myTextFileOut.write(strToWrite)\n",
    "        \n",
    "        myTextFileOut.close()\n",
    "        \n",
    "        \n",
    "    return None"
   ]
  },
  {
   "cell_type": "markdown",
   "metadata": {},
   "source": [
    "#### Testing\n",
    "\n",
    "We test this subroutine by writing our previously defined string **testText** to another file *TestTextFile2.txt* and then reading that new file back in with **fileRDR** and comparing the read result with the original string.  Starting with the write"
   ]
  },
  {
   "cell_type": "code",
   "execution_count": 9,
   "metadata": {},
   "outputs": [],
   "source": [
    "fileWTR(\"TestTextFile2.txt\", testText)"
   ]
  },
  {
   "cell_type": "markdown",
   "metadata": {},
   "source": [
    "we then read the new file back in"
   ]
  },
  {
   "cell_type": "code",
   "execution_count": 10,
   "metadata": {},
   "outputs": [],
   "source": [
    "testTextIn2 = fileRDR(\"TestTextFile2.txt\")"
   ]
  },
  {
   "cell_type": "markdown",
   "metadata": {},
   "source": [
    "and check the see that they are the same"
   ]
  },
  {
   "cell_type": "code",
   "execution_count": 11,
   "metadata": {},
   "outputs": [
    {
     "name": "stdout",
     "output_type": "stream",
     "text": [
      "This is a test text file\n"
     ]
    }
   ],
   "source": [
    "if testText == testTextIn2:\n",
    "    print(testTextIn2)\n",
    "else:\n",
    "    print(\"OOOPS!!!\")"
   ]
  },
  {
   "cell_type": "markdown",
   "metadata": {},
   "source": [
    "Since the text writer works, we move on to CSV file readers and writers.\n",
    "\n",
    "### File Reader (*for CSV files*)\n",
    "\n",
    "Now, we will create a **File Reader** for CSV files.  We will name it _**csvFileRDR**_ and its code is"
   ]
  },
  {
   "cell_type": "code",
   "execution_count": 12,
   "metadata": {},
   "outputs": [],
   "source": [
    "def csvFileRDR(filename):\n",
    "    csvOUT = []\n",
    "    \n",
    "    with open(filename, 'r') as myCSVfileIn:\n",
    "        csvReader = csv.reader(x for x in myCSVfileIn)\n",
    "        \n",
    "        for row in csvReader:\n",
    "            temp = row\n",
    "            csvOUT.append(temp)\n",
    "            \n",
    "        myCSVfileIn.close()\n",
    "        \n",
    "        \n",
    "    return csvOUT"
   ]
  },
  {
   "cell_type": "markdown",
   "metadata": {},
   "source": [
    "#### Testing\n",
    "\n",
    "In order to test our new CSV file reader, we define a string array to have the same contents as those which occur in our *testCSV.csv* test file"
   ]
  },
  {
   "cell_type": "code",
   "execution_count": 13,
   "metadata": {},
   "outputs": [],
   "source": [
    "testCSV = [['a', '1'], ['b', '2'], ['c', '3'], ['d', '4'], ['e', '5'], ['f', '6'], ['g', '7'], ['h', '8'], ['i', '9'], ['j', '10']]"
   ]
  },
  {
   "cell_type": "markdown",
   "metadata": {},
   "source": [
    "We now import the file's contents to another array"
   ]
  },
  {
   "cell_type": "code",
   "execution_count": 14,
   "metadata": {},
   "outputs": [],
   "source": [
    "testCSVin = csvFileRDR('testCSV.csv')"
   ]
  },
  {
   "cell_type": "markdown",
   "metadata": {},
   "source": [
    "finally checking if they are equal to our previously defined array and printing the array if they are"
   ]
  },
  {
   "cell_type": "code",
   "execution_count": 15,
   "metadata": {},
   "outputs": [
    {
     "name": "stdout",
     "output_type": "stream",
     "text": [
      "[['a', '1'], ['b', '2'], ['c', '3'], ['d', '4'], ['e', '5'], ['f', '6'], ['g', '7'], ['h', '8'], ['i', '9'], ['j', '10']]\n"
     ]
    }
   ],
   "source": [
    "testCOND = True\n",
    "\n",
    "rowCTR = 0\n",
    "for row in testCSV:\n",
    "    colCTR = 0\n",
    "    \n",
    "    for col in row:\n",
    "        tmpTest = testCSVin[rowCTR]\n",
    "        temp = tmpTest[colCTR]\n",
    "        \n",
    "        if temp.strip() == col.strip():\n",
    "            colCTR += 1\n",
    "        else:\n",
    "            testCOND = False\n",
    "            break\n",
    "            \n",
    "    rowCTR += 1\n",
    "    \n",
    "    \n",
    "if testCOND:\n",
    "    print(testCSVin)\n",
    "else:\n",
    "    print(\"OOOPS!!!\")"
   ]
  },
  {
   "cell_type": "markdown",
   "metadata": {},
   "source": [
    "Since the CSV reader works, we move on to the CSV writer.\n",
    "\n",
    "### File Writer (*for CSV files*)\n",
    "\n",
    "Now, we will create a **File Writer** for CSV files.  We will name it _**csvFileWTR**_ and its code is"
   ]
  },
  {
   "cell_type": "code",
   "execution_count": 16,
   "metadata": {},
   "outputs": [],
   "source": [
    "def csvFileWTR(filename, arrayToWrite):\n",
    "    with open(filename, 'w', newline='') as myCSVfileOut:\n",
    "        csvWriter = csv.writer(myCSVfileOut, delimiter=',',\n",
    "                            quotechar=' ', quoting=csv.QUOTE_MINIMAL)\n",
    "                               #dialect='excel')\n",
    "                               #delimiter=',', quotechar='|', quoting=csv.QUOTE_MINIMAL)\n",
    "        \n",
    "        for row in arrayToWrite:\n",
    "            csvWriter.writerow(row)\n",
    "            \n",
    "        myCSVfileOut.close()\n",
    "        \n",
    "    return None"
   ]
  },
  {
   "cell_type": "markdown",
   "metadata": {},
   "source": [
    "#### Testing\n",
    "\n",
    "In order to test our new CSV file writer, we will use our previously defined **testCSV** string array and have the CSV file writer write it to the new file *testCSV2.csv*.  Then we will read this newly written file in and compare it to the oringinal **testCSV**.  Writing the new file"
   ]
  },
  {
   "cell_type": "code",
   "execution_count": 17,
   "metadata": {},
   "outputs": [],
   "source": [
    "csvFileWTR('testCSV2.csv', testCSV)"
   ]
  },
  {
   "cell_type": "markdown",
   "metadata": {},
   "source": [
    "Reading the newly written file into the new string array **testCSVin2**."
   ]
  },
  {
   "cell_type": "code",
   "execution_count": 18,
   "metadata": {},
   "outputs": [],
   "source": [
    "testCSVin2 = csvFileRDR(\"testCSV2.csv\")"
   ]
  },
  {
   "cell_type": "markdown",
   "metadata": {},
   "source": [
    "Finally checking if the **testCSV** and **testCSVin2** string arrays match, element for element."
   ]
  },
  {
   "cell_type": "code",
   "execution_count": 19,
   "metadata": {},
   "outputs": [
    {
     "name": "stdout",
     "output_type": "stream",
     "text": [
      "[['a', '1'], ['b', '2'], ['c', '3'], ['d', '4'], ['e', '5'], ['f', '6'], ['g', '7'], ['h', '8'], ['i', '9'], ['j', '10']]\n"
     ]
    }
   ],
   "source": [
    "testCOND = True\n",
    "\n",
    "rowCTR = 0\n",
    "for row in testCSV:\n",
    "    colCTR = 0\n",
    "    \n",
    "    for col in row:\n",
    "        tmpTest = testCSVin2[rowCTR]\n",
    "        temp = tmpTest[colCTR]\n",
    "        \n",
    "        if temp.strip() == col.strip():\n",
    "            colCTR += 1\n",
    "        else:\n",
    "            testCOND = False\n",
    "            break\n",
    "            \n",
    "    rowCTR += 1\n",
    "    \n",
    "    \n",
    "if testCOND:\n",
    "    print(testCSVin2)\n",
    "else:\n",
    "    print(\"OOOPS!!!\")"
   ]
  },
  {
   "cell_type": "markdown",
   "metadata": {},
   "source": [
    "### Dictionary Extractor\n",
    "\n",
    "We will also need a subroutine to extract a dictionary of all the characters used by a specified text.  Thus, we create the **dictExtractr** sub-routine to extract a character dictionary from the input String provided to it."
   ]
  },
  {
   "cell_type": "code",
   "execution_count": 20,
   "metadata": {},
   "outputs": [],
   "source": [
    "def dictExtractr(textIn):\n",
    "    dictOut = list(set(textIn))\n",
    "    \n",
    "    return dictOut"
   ]
  },
  {
   "cell_type": "markdown",
   "metadata": {},
   "source": [
    "#### Testing\n",
    "\n",
    "To test our **dictExtractr** function, we will provide it with the previously defined string, **testText**, and a new string **testGophers**, which is defined as"
   ]
  },
  {
   "cell_type": "code",
   "execution_count": 21,
   "metadata": {},
   "outputs": [],
   "source": [
    "testGophers = \"go go gophers\""
   ]
  },
  {
   "cell_type": "markdown",
   "metadata": {},
   "source": [
    "Testing on **testText** gives"
   ]
  },
  {
   "cell_type": "code",
   "execution_count": 22,
   "metadata": {},
   "outputs": [
    {
     "name": "stdout",
     "output_type": "stream",
     "text": [
      "This is a test text file\n",
      "['x', 's', 'i', 'h', 't', 'a', 'f', 'T', ' ', 'l', 'e']\n"
     ]
    }
   ],
   "source": [
    "print(testText)\n",
    "\n",
    "testDict = dictExtractr(testText)\n",
    "print(testDict)"
   ]
  },
  {
   "cell_type": "markdown",
   "metadata": {},
   "source": [
    "While testing on **testGophers** gives"
   ]
  },
  {
   "cell_type": "code",
   "execution_count": 23,
   "metadata": {},
   "outputs": [
    {
     "name": "stdout",
     "output_type": "stream",
     "text": [
      "go go gophers\n",
      "['g', 's', 'h', 'o', ' ', 'r', 'p', 'e']\n"
     ]
    }
   ],
   "source": [
    "print(testGophers)\n",
    "\n",
    "testDict2 = dictExtractr(testGophers)\n",
    "print(testDict2)"
   ]
  },
  {
   "cell_type": "markdown",
   "metadata": {},
   "source": [
    "Since the dictionary exractor works, we will new move on to the N-Gram Generator.\n",
    "\n",
    "### N-Gram Generator\n",
    "\n",
    "Since we may wish to encode based on Bi-Grams, Tri-Grams, or some other type of N-Grams (*instead of just characters*), we need to write a routine to create N-Grams of the specified dimension (*N*) from a specified character dictionary.  We call this function **nGramBuilder** and its code is"
   ]
  },
  {
   "cell_type": "code",
   "execution_count": 24,
   "metadata": {},
   "outputs": [],
   "source": [
    "def nGramBuilder(nIn, dictIn):\n",
    "    gramsOut = []\n",
    "    \n",
    "    if nIn == 1:\n",
    "        gramsOut = dictIn\n",
    "    else: #if nIn > 1:\n",
    "        nOut = nIn - 1\n",
    "        \n",
    "        tempGrams = nGramBuilder(nOut, dictIn)\n",
    "        \n",
    "        for letter in dictIn:\n",
    "            for gram in tempGrams:\n",
    "                gramsOut.append(letter + gram)\n",
    "                \n",
    "    \n",
    "    return gramsOut"
   ]
  },
  {
   "cell_type": "markdown",
   "metadata": {},
   "source": [
    "Our character dictionary is used by one more function which we will define next\n",
    "\n",
    "### Frequency Counter\n",
    "\n",
    "We need to know the frequency of characters from a given dictionary in a given document.  Thus, we create the **freqCTR** sub-routine to determine these frequencies."
   ]
  },
  {
   "cell_type": "code",
   "execution_count": 25,
   "metadata": {},
   "outputs": [],
   "source": [
    "def freqCTR(dictIn, textIn):\n",
    "    counts = []\n",
    "    \n",
    "    for x in dictIn:\n",
    "        counts.append(textIn.count(x))\n",
    "        \n",
    "        \n",
    "    return x"
   ]
  },
  {
   "cell_type": "code",
   "execution_count": 26,
   "metadata": {},
   "outputs": [],
   "source": [
    "def freqCTR(dictIn, textIn):\n",
    "    counts = {}\n",
    "    \n",
    "    for x in dictIn:\n",
    "        counts[x] = textIn.count(x)\n",
    "        \n",
    "        \n",
    "    return counts"
   ]
  },
  {
   "cell_type": "markdown",
   "metadata": {},
   "source": [
    "#### Testing\n",
    "\n",
    "We test this with the previously obtained **testDict** and **testDict2** dictionaries,"
   ]
  },
  {
   "cell_type": "code",
   "execution_count": 27,
   "metadata": {},
   "outputs": [
    {
     "name": "stdout",
     "output_type": "stream",
     "text": [
      "['x', 's', 'i', 'h', 't', 'a', 'f', 'T', ' ', 'l', 'e']\n",
      "['g', 's', 'h', 'o', ' ', 'r', 'p', 'e']\n"
     ]
    }
   ],
   "source": [
    "print(testDict)\n",
    "print(testDict2)"
   ]
  },
  {
   "cell_type": "markdown",
   "metadata": {},
   "source": [
    "which were obtained from the previously defined **testText** and **testGophers** Strings,"
   ]
  },
  {
   "cell_type": "code",
   "execution_count": 28,
   "metadata": {},
   "outputs": [
    {
     "name": "stdout",
     "output_type": "stream",
     "text": [
      "This is a test text file\n",
      "go go gophers\n"
     ]
    }
   ],
   "source": [
    "print(testText)\n",
    "print(testGophers)"
   ]
  },
  {
   "cell_type": "markdown",
   "metadata": {},
   "source": [
    "Testing on the **testDict** and **testText** pair, we have"
   ]
  },
  {
   "cell_type": "code",
   "execution_count": 29,
   "metadata": {},
   "outputs": [
    {
     "name": "stdout",
     "output_type": "stream",
     "text": [
      "{'x': 1, 's': 3, 'i': 3, 'h': 1, 't': 4, 'a': 1, 'f': 1, 'T': 1, ' ': 5, 'l': 1, 'e': 3}\n"
     ]
    }
   ],
   "source": [
    "testFreqs = freqCTR(testDict, testText)\n",
    "print(testFreqs)"
   ]
  },
  {
   "cell_type": "markdown",
   "metadata": {},
   "source": [
    "as expected.  Similarly, testing on the **testDict2** and **testGophers** pair, we have"
   ]
  },
  {
   "cell_type": "code",
   "execution_count": 30,
   "metadata": {},
   "outputs": [
    {
     "name": "stdout",
     "output_type": "stream",
     "text": [
      "{'g': 3, 's': 1, 'h': 1, 'o': 3, ' ': 2, 'r': 1, 'p': 1, 'e': 1}\n"
     ]
    }
   ],
   "source": [
    "testFreqs2 = freqCTR(testDict2, testGophers)\n",
    "print(testFreqs2)"
   ]
  },
  {
   "cell_type": "markdown",
   "metadata": {},
   "source": [
    "as expected.\n",
    "\n",
    "Now, before continuing with subroutines and functions, we need to define an object class for Huffman Nodes (*nodes in our Huffman tree(s)*).\n",
    "\n",
    "### Huffman Nodes\n",
    "\n",
    "Our object for representing Huffman Nodes will be called the **HuffmanNode** class and must have the properties \n",
    "\n",
    "* The character it represents: **_myChar_**\n",
    "    * *Data-Type: __char__*\n",
    "    * (*Default = __None__*)\n",
    "* The frequency of the character it represents: **_myFreq_**\n",
    "    * *Data-Type: __int__*\n",
    "    * (*Default = Not specified*)\n",
    "* The left child of the node: **_myLeft_**\n",
    "    * *Data-Type: __HuffmanNode__*\n",
    "    * (*Default = __None__*)\n",
    "* The right child of the node: **_myRight_**\n",
    "    * *Data-Type: __HuffmanNode__*\n",
    "    * (*Default = __None__*)\n",
    "    \n",
    "The **HuffmanNode** class must also have a method for comparing it to other instances of **HuffmanNode** and another method to allow an instance of **HuffmanNode** to determine if it is a leaf in a tree (*myLeft = None __and__ myRight = None*).  With all this in mind, we define our **HuffmanNode** class as follows"
   ]
  },
  {
   "cell_type": "code",
   "execution_count": 31,
   "metadata": {},
   "outputs": [],
   "source": [
    "class HuffmanNode(object):\n",
    "    def __init__(self, theFreq, theChar=None, theLeft=None, theRight=None):\n",
    "        self.myChar = theChar\n",
    "        self.myFreq = theFreq\n",
    "        self.myLeft = theLeft\n",
    "        self.myRight = theRight\n",
    "        \n",
    "    def __lt__(self, other):\n",
    "        return self.myFreq < other.myFreq\n",
    "    \n",
    "    def isLeaf(self):\n",
    "        return (self.myLeft == None  and  self.myRight == None)"
   ]
  },
  {
   "cell_type": "markdown",
   "metadata": {},
   "source": [
    "#### Testing\n",
    "\n",
    "We will test to ensure that our **HuffmanNode** class does the following\n",
    "\n",
    "* Returns the proper values for \n",
    "    * **myChar**\n",
    "    * **myFreq**\n",
    "    * **myLeft**\n",
    "    * **myRight**\n",
    "* Properly compares two instances of the class\n",
    "* Properly determines if an instance is or is not a leaf\n",
    "\n",
    "Starting with the value testing for **myChar** and **myFreq**, we define the values"
   ]
  },
  {
   "cell_type": "code",
   "execution_count": 32,
   "metadata": {},
   "outputs": [],
   "source": [
    "aChar1 = \"a\"\n",
    "aFreq1 = 10\n",
    "\n",
    "aChar2 = \"b\"\n",
    "aFreq2 = 6\n",
    "\n",
    "aChar3 = \"f\"\n",
    "aFreq3 = 4"
   ]
  },
  {
   "cell_type": "markdown",
   "metadata": {},
   "source": [
    "which we use to define the following three instances of the **HuffmanNode** class"
   ]
  },
  {
   "cell_type": "code",
   "execution_count": 33,
   "metadata": {},
   "outputs": [],
   "source": [
    "aHnode1 = HuffmanNode(aFreq1, aChar1)\n",
    "aHnode2 = HuffmanNode(aFreq2, aChar2)\n",
    "aHnode3 = HuffmanNode(aFreq3, aChar3)"
   ]
  },
  {
   "cell_type": "markdown",
   "metadata": {},
   "source": [
    "We now have these three instances of the **HuffmanNode** class recall their specified values for *myChar* and *myFreq*"
   ]
  },
  {
   "cell_type": "code",
   "execution_count": 34,
   "metadata": {},
   "outputs": [
    {
     "name": "stdout",
     "output_type": "stream",
     "text": [
      "a\n",
      "10\n"
     ]
    }
   ],
   "source": [
    "print(aHnode1.myChar)\n",
    "print(aHnode1.myFreq)"
   ]
  },
  {
   "cell_type": "code",
   "execution_count": 35,
   "metadata": {},
   "outputs": [
    {
     "name": "stdout",
     "output_type": "stream",
     "text": [
      "b\n",
      "6\n"
     ]
    }
   ],
   "source": [
    "print(aHnode2.myChar)\n",
    "print(aHnode2.myFreq)"
   ]
  },
  {
   "cell_type": "code",
   "execution_count": 36,
   "metadata": {},
   "outputs": [
    {
     "name": "stdout",
     "output_type": "stream",
     "text": [
      "f\n",
      "4\n"
     ]
    }
   ],
   "source": [
    "print(aHnode3.myChar)\n",
    "print(aHnode3.myFreq)"
   ]
  },
  {
   "cell_type": "markdown",
   "metadata": {},
   "source": [
    "Since these instances return their specified values correctly, we move on to checking if they compare themselves amongst each other properly"
   ]
  },
  {
   "cell_type": "code",
   "execution_count": 37,
   "metadata": {},
   "outputs": [
    {
     "name": "stdout",
     "output_type": "stream",
     "text": [
      "False\n",
      "False\n"
     ]
    }
   ],
   "source": [
    "print(aHnode1.myFreq < aHnode2.myFreq)\n",
    "print(aHnode1 < aHnode2)"
   ]
  },
  {
   "cell_type": "code",
   "execution_count": 38,
   "metadata": {},
   "outputs": [
    {
     "name": "stdout",
     "output_type": "stream",
     "text": [
      "False\n",
      "False\n"
     ]
    }
   ],
   "source": [
    "print(aHnode1.myFreq < aHnode3.myFreq)\n",
    "print(aHnode1 < aHnode3)"
   ]
  },
  {
   "cell_type": "code",
   "execution_count": 39,
   "metadata": {},
   "outputs": [
    {
     "name": "stdout",
     "output_type": "stream",
     "text": [
      "True\n",
      "True\n"
     ]
    }
   ],
   "source": [
    "print(aHnode2.myFreq > aHnode3.myFreq)\n",
    "print(aHnode2 > aHnode3)"
   ]
  },
  {
   "cell_type": "markdown",
   "metadata": {},
   "source": [
    "Lastly, we need to check the *leaf* properties and the *isLeaf* method.  To do this, we assign the second and third nodes as leaves of the first"
   ]
  },
  {
   "cell_type": "code",
   "execution_count": 40,
   "metadata": {},
   "outputs": [],
   "source": [
    "aHnode1.myLeft = aHnode3\n",
    "aHnode1.myRight = aHnode2"
   ]
  },
  {
   "cell_type": "markdown",
   "metadata": {},
   "source": [
    "This allows us to first check if the first instances properly returns its leaves with"
   ]
  },
  {
   "cell_type": "code",
   "execution_count": 41,
   "metadata": {},
   "outputs": [
    {
     "name": "stdout",
     "output_type": "stream",
     "text": [
      "f\n",
      "f\n"
     ]
    },
    {
     "data": {
      "text/plain": [
       "True"
      ]
     },
     "execution_count": 41,
     "metadata": {},
     "output_type": "execute_result"
    }
   ],
   "source": [
    "print(aHnode3.myChar)\n",
    "print(aHnode1.myLeft.myChar)\n",
    "aHnode3 == aHnode1.myLeft"
   ]
  },
  {
   "cell_type": "markdown",
   "metadata": {},
   "source": [
    "for the left and"
   ]
  },
  {
   "cell_type": "code",
   "execution_count": 42,
   "metadata": {},
   "outputs": [
    {
     "name": "stdout",
     "output_type": "stream",
     "text": [
      "b\n",
      "b\n"
     ]
    },
    {
     "data": {
      "text/plain": [
       "True"
      ]
     },
     "execution_count": 42,
     "metadata": {},
     "output_type": "execute_result"
    }
   ],
   "source": [
    "print(aHnode2.myChar)\n",
    "print(aHnode1.myRight.myChar)\n",
    "aHnode2 == aHnode1.myRight"
   ]
  },
  {
   "cell_type": "markdown",
   "metadata": {},
   "source": [
    "for the right.  Lastly, we check if the instances return the proper responses for the *isLeaf* method"
   ]
  },
  {
   "cell_type": "code",
   "execution_count": 43,
   "metadata": {},
   "outputs": [
    {
     "data": {
      "text/plain": [
       "False"
      ]
     },
     "execution_count": 43,
     "metadata": {},
     "output_type": "execute_result"
    }
   ],
   "source": [
    "aHnode1.isLeaf()"
   ]
  },
  {
   "cell_type": "code",
   "execution_count": 44,
   "metadata": {},
   "outputs": [
    {
     "data": {
      "text/plain": [
       "True"
      ]
     },
     "execution_count": 44,
     "metadata": {},
     "output_type": "execute_result"
    }
   ],
   "source": [
    "aHnode2.isLeaf()"
   ]
  },
  {
   "cell_type": "code",
   "execution_count": 45,
   "metadata": {},
   "outputs": [
    {
     "data": {
      "text/plain": [
       "True"
      ]
     },
     "execution_count": 45,
     "metadata": {},
     "output_type": "execute_result"
    }
   ],
   "source": [
    "aHnode3.isLeaf()"
   ]
  },
  {
   "cell_type": "markdown",
   "metadata": {},
   "source": [
    "Since the **HuffmanNode** object class tests out properly, we move on to creating a method to build a Huffman Tree.\n",
    "\n",
    "### Huffman Tree Maker\n",
    "\n",
    "Given some frequency data about the occurance of character in some text, where the data is in the form *{__char__ (or str): __count__}*, we want a method which will create a corresponding Huffman Tree.  Thus, the method must first convert each element of the provided data to its own instance of the **HuffmanNode** class; after which it sequentially builds a HuffmanTree (*itself a Huffman Node*) by successively combining the two nodes with the lowest frequency values into a new instance of a **HuffmanNode** which has these two nodes as children and a frequency equal to the sum of the frequencies of its children.  Since we are working from the \"*bottom*\" of the pile of frequencies up, we will utilize the **heapify**, **heappop**, and **heappush** methods from the \"*heapq*\" library to allow us to implement this as a reverse priority que.  Thus, we define the method **hTreeMakr** as follows"
   ]
  },
  {
   "cell_type": "code",
   "execution_count": 46,
   "metadata": {},
   "outputs": [],
   "source": [
    "def hTreeMakr(theFreqData):\n",
    "    myFreqData = theFreqData\n",
    "    \n",
    "    hNodes = []\n",
    "    \n",
    "    for char in myFreqData:\n",
    "        hNodes.append(HuffmanNode(myFreqData[char], char))\n",
    "        \n",
    "    heapq.heapify(hNodes)\n",
    "    \n",
    "    while(len(hNodes) > 1):\n",
    "        leftLeaf = heapq.heappop(hNodes)\n",
    "        rightLeaf = heapq.heappop(hNodes)\n",
    "        \n",
    "        newFreq = leftLeaf.myFreq + rightLeaf.myFreq\n",
    "        \n",
    "        newNode = HuffmanNode(newFreq, theLeft = leftLeaf, theRight = rightLeaf)\n",
    "        \n",
    "        heapq.heappush(hNodes, newNode)\n",
    "        \n",
    "    \n",
    "    return None if hNodes == [] else heapq.heappop(hNodes)"
   ]
  },
  {
   "cell_type": "markdown",
   "metadata": {},
   "source": [
    "#### Testing\n",
    "\n",
    "We will test this method on the **testFreqs** and **testFreqs2** frequency data dictionaries we already have"
   ]
  },
  {
   "cell_type": "code",
   "execution_count": 47,
   "metadata": {},
   "outputs": [
    {
     "name": "stdout",
     "output_type": "stream",
     "text": [
      "{'x': 1, 's': 3, 'i': 3, 'h': 1, 't': 4, 'a': 1, 'f': 1, 'T': 1, ' ': 5, 'l': 1, 'e': 3}\n",
      "{'g': 3, 's': 1, 'h': 1, 'o': 3, ' ': 2, 'r': 1, 'p': 1, 'e': 1}\n"
     ]
    }
   ],
   "source": [
    "print(testFreqs)\n",
    "print(testFreqs2)"
   ]
  },
  {
   "cell_type": "code",
   "execution_count": 48,
   "metadata": {},
   "outputs": [],
   "source": [
    "testHtree = hTreeMakr(testFreqs)"
   ]
  },
  {
   "cell_type": "code",
   "execution_count": 49,
   "metadata": {},
   "outputs": [
    {
     "name": "stdout",
     "output_type": "stream",
     "text": [
      "None\n",
      "NONE\n"
     ]
    }
   ],
   "source": [
    "print(testHtree.myLeft.myLeft.myChar)\n",
    "print(str(testHtree.myLeft.myLeft.myChar).upper())"
   ]
  },
  {
   "cell_type": "code",
   "execution_count": 50,
   "metadata": {},
   "outputs": [],
   "source": [
    "testHtree2 = hTreeMakr(testFreqs2)"
   ]
  },
  {
   "cell_type": "code",
   "execution_count": 51,
   "metadata": {},
   "outputs": [
    {
     "name": "stdout",
     "output_type": "stream",
     "text": [
      "g\n",
      "G\n"
     ]
    }
   ],
   "source": [
    "print(testHtree2.myLeft.myLeft.myChar)\n",
    "print(str(testHtree2.myLeft.myLeft.myChar).upper())"
   ]
  },
  {
   "cell_type": "markdown",
   "metadata": {},
   "source": [
    "Since the **hTreeMakr** method tests properly, we move on to our *last* sub-routine.\n",
    "\n",
    "### Code Creator\n",
    "\n",
    "The last *sub-routine* we need is one which will convert **HuffmanTrees** into a code index (*dictionary*).  We call this method **codeFromHtree** and its code is"
   ]
  },
  {
   "cell_type": "code",
   "execution_count": 52,
   "metadata": {},
   "outputs": [],
   "source": [
    "def codeFromHtree(hTree):\n",
    "    code = dict()\n",
    "    \n",
    "    def bldCode(hNode, codeNow = ''):\n",
    "        \n",
    "        if (hNode == None):\n",
    "            return\n",
    "        \n",
    "        if (hNode.myLeft == None and hNode.myRight == None):\n",
    "            code[hNode.myChar] = codeNow\n",
    "            \n",
    "        bldCode(hNode.myLeft, codeNow + \"0\")\n",
    "        bldCode(hNode.myRight, codeNow + \"1\")\n",
    "        \n",
    "        \n",
    "    bldCode(hTree)\n",
    "    \n",
    "    \n",
    "    return code"
   ]
  },
  {
   "cell_type": "markdown",
   "metadata": {},
   "source": [
    "#### Testing\n",
    "\n",
    "To test our **codeFromHtree** method, we will use the previously defined **testHtree** and **testHtree2** "
   ]
  },
  {
   "cell_type": "code",
   "execution_count": 53,
   "metadata": {},
   "outputs": [
    {
     "name": "stdout",
     "output_type": "stream",
     "text": [
      "{'T': '0000', 'h': '0001', 'i': '001', ' ': '01', 's': '100', 'e': '101', 'f': '11000', 'a': '11001', 'x': '11010', 'l': '11011', 't': '111'}\n"
     ]
    }
   ],
   "source": [
    "testCode = codeFromHtree(testHtree)\n",
    "print(testCode)"
   ]
  },
  {
   "cell_type": "code",
   "execution_count": 54,
   "metadata": {},
   "outputs": [
    {
     "name": "stdout",
     "output_type": "stream",
     "text": [
      "{'g': '00', 's': '010', 'p': '0110', 'h': '0111', 'o': '10', 'r': '1100', 'e': '1101', ' ': '111'}\n"
     ]
    }
   ],
   "source": [
    "testCode2 = codeFromHtree(testHtree2)\n",
    "print(testCode2)"
   ]
  },
  {
   "cell_type": "markdown",
   "metadata": {},
   "source": [
    "Since this sub-routine correctly built all the codes in its tests, we can now move on to the actually programs for encoding and decoding.\n",
    "\n",
    "## Encoder\n",
    "\n",
    "We will now create a method to handle the entire encoding process."
   ]
  },
  {
   "cell_type": "code",
   "execution_count": 55,
   "metadata": {},
   "outputs": [],
   "source": [
    "def encode(textIn):\n",
    "    textDict = dictExtractr(textIn)\n",
    "    \n",
    "    freqs = freqCTR(textDict, textIn)\n",
    "    \n",
    "    myHtree = hTreeMakr(freqs)\n",
    "    \n",
    "    code = codeFromHtree(myHtree)\n",
    "    \n",
    "    encodedText = \"\"\n",
    "    for char in textIn:\n",
    "        encodedText += code[char]\n",
    "        \n",
    "    return encodedText"
   ]
  },
  {
   "cell_type": "markdown",
   "metadata": {},
   "source": [
    "### Testing\n",
    "\n",
    "We will test with the previously defined strings **testText** and **testGophers**"
   ]
  },
  {
   "cell_type": "code",
   "execution_count": 56,
   "metadata": {},
   "outputs": [
    {
     "name": "stdout",
     "output_type": "stream",
     "text": [
      "00000001001100010011000111001011111011001110111110111010111011100000111011101\n"
     ]
    }
   ],
   "source": [
    "testEncoded = encode(testText)\n",
    "print(testEncoded)"
   ]
  },
  {
   "cell_type": "code",
   "execution_count": 57,
   "metadata": {},
   "outputs": [
    {
     "name": "stdout",
     "output_type": "stream",
     "text": [
      "0010111001011100100110011111011100010\n"
     ]
    }
   ],
   "source": [
    "testEncoded2 = encode(testGophers)\n",
    "print(testEncoded2)"
   ]
  },
  {
   "cell_type": "markdown",
   "metadata": {},
   "source": [
    "### Run on Tom Sawyer\n",
    "\n",
    "First we start a timer"
   ]
  },
  {
   "cell_type": "code",
   "execution_count": 58,
   "metadata": {},
   "outputs": [],
   "source": [
    "t0 = time.time()"
   ]
  },
  {
   "cell_type": "markdown",
   "metadata": {},
   "source": [
    "Then we import the Tom Sawyer Text"
   ]
  },
  {
   "cell_type": "code",
   "execution_count": 59,
   "metadata": {},
   "outputs": [],
   "source": [
    "tomText = fileRDR('../Text-Files/sawyer-ascii.txt')"
   ]
  },
  {
   "cell_type": "markdown",
   "metadata": {},
   "source": [
    "followed by encoding"
   ]
  },
  {
   "cell_type": "code",
   "execution_count": 60,
   "metadata": {},
   "outputs": [
    {
     "name": "stdout",
     "output_type": "stream",
     "text": [
      "1850008\n"
     ]
    }
   ],
   "source": [
    "tomCompressed = encode(tomText)\n",
    "print(len(tomCompressed))"
   ]
  },
  {
   "cell_type": "code",
   "execution_count": 61,
   "metadata": {},
   "outputs": [],
   "source": [
    "t1 = time.time()"
   ]
  },
  {
   "cell_type": "markdown",
   "metadata": {},
   "source": [
    "The compression ratio is"
   ]
  },
  {
   "cell_type": "code",
   "execution_count": 62,
   "metadata": {},
   "outputs": [
    {
     "name": "stdout",
     "output_type": "stream",
     "text": [
      "0.574301218134181\n"
     ]
    }
   ],
   "source": [
    "print(len(tomCompressed)/(8*len(tomText)))"
   ]
  },
  {
   "cell_type": "markdown",
   "metadata": {},
   "source": [
    "and the elapsed time is"
   ]
  },
  {
   "cell_type": "code",
   "execution_count": 63,
   "metadata": {
    "scrolled": true
   },
   "outputs": [
    {
     "name": "stdout",
     "output_type": "stream",
     "text": [
      "0.153289794921875\n"
     ]
    }
   ],
   "source": [
    "tComp = t1 - t0\n",
    "print(tComp)"
   ]
  },
  {
   "cell_type": "markdown",
   "metadata": {},
   "source": [
    "### Run on the King James Version of the Bible\n",
    "\n",
    "First we start a timer"
   ]
  },
  {
   "cell_type": "code",
   "execution_count": 64,
   "metadata": {},
   "outputs": [],
   "source": [
    "t0 = time.time()"
   ]
  },
  {
   "cell_type": "markdown",
   "metadata": {},
   "source": [
    "Then we import the King James Version of the Bible Text"
   ]
  },
  {
   "cell_type": "code",
   "execution_count": 65,
   "metadata": {},
   "outputs": [],
   "source": [
    "bibleText = fileRDR('../Text-Files/kingJames-ascii.txt')"
   ]
  },
  {
   "cell_type": "markdown",
   "metadata": {},
   "source": [
    "followed by encoding"
   ]
  },
  {
   "cell_type": "code",
   "execution_count": 66,
   "metadata": {},
   "outputs": [
    {
     "name": "stdout",
     "output_type": "stream",
     "text": [
      "19939923\n"
     ]
    }
   ],
   "source": [
    "bibleCompressed = encode(bibleText)\n",
    "print(len(bibleCompressed))"
   ]
  },
  {
   "cell_type": "code",
   "execution_count": 67,
   "metadata": {},
   "outputs": [],
   "source": [
    "t1 = time.time()"
   ]
  },
  {
   "cell_type": "markdown",
   "metadata": {},
   "source": [
    "The compression ratio is"
   ]
  },
  {
   "cell_type": "code",
   "execution_count": 68,
   "metadata": {},
   "outputs": [
    {
     "name": "stdout",
     "output_type": "stream",
     "text": [
      "0.5727394226626454\n"
     ]
    }
   ],
   "source": [
    "print(len(bibleCompressed)/(8*len(bibleText)))"
   ]
  },
  {
   "cell_type": "markdown",
   "metadata": {},
   "source": [
    "and the elapsed time is"
   ]
  },
  {
   "cell_type": "code",
   "execution_count": 69,
   "metadata": {
    "scrolled": true
   },
   "outputs": [
    {
     "name": "stdout",
     "output_type": "stream",
     "text": [
      "1.1975061893463135\n"
     ]
    }
   ],
   "source": [
    "tComp = t1 - t0\n",
    "print(tComp)"
   ]
  },
  {
   "cell_type": "markdown",
   "metadata": {},
   "source": [
    "## Decoder\n",
    "\n",
    "Last, we will write a decoder method to decode encoded text."
   ]
  },
  {
   "cell_type": "code",
   "execution_count": 70,
   "metadata": {},
   "outputs": [],
   "source": [
    "def decoder(textIn, freqsIn):\n",
    "    hTree = hTreeMakr(freqsIn)\n",
    "    \n",
    "    decoded = \"\"\n",
    "    currentNode = hTree\n",
    "    for compCode in textIn:\n",
    "        if (compCode == \"0\"):\n",
    "            currentNode = currentNode.myLeft\n",
    "        else:\n",
    "            currentNode = currentNode.myRight\n",
    "            \n",
    "        if (currentNode.isLeaf()):\n",
    "            decoded += currentNode.myChar\n",
    "            currentNode = hTree\n",
    "            \n",
    "            \n",
    "    return decoded    "
   ]
  },
  {
   "cell_type": "markdown",
   "metadata": {},
   "source": [
    "### Run on Tom Sawyer"
   ]
  },
  {
   "cell_type": "markdown",
   "metadata": {},
   "source": [
    "Get frequencies for passing to the decoder"
   ]
  },
  {
   "cell_type": "code",
   "execution_count": 71,
   "metadata": {},
   "outputs": [],
   "source": [
    "freqsToDecomp = freqCTR(dictExtractr(tomText), tomText)"
   ]
  },
  {
   "cell_type": "markdown",
   "metadata": {},
   "source": [
    "Start a timer"
   ]
  },
  {
   "cell_type": "code",
   "execution_count": 72,
   "metadata": {},
   "outputs": [],
   "source": [
    "t0 = time.time()"
   ]
  },
  {
   "cell_type": "markdown",
   "metadata": {},
   "source": [
    "Decompress"
   ]
  },
  {
   "cell_type": "code",
   "execution_count": 73,
   "metadata": {},
   "outputs": [],
   "source": [
    "tomDecomp = decoder(tomCompressed, freqsToDecomp)"
   ]
  },
  {
   "cell_type": "markdown",
   "metadata": {},
   "source": [
    "Stop the timer"
   ]
  },
  {
   "cell_type": "code",
   "execution_count": 74,
   "metadata": {},
   "outputs": [],
   "source": [
    "t1 = time.time()"
   ]
  },
  {
   "cell_type": "markdown",
   "metadata": {},
   "source": [
    "Compare the lengths"
   ]
  },
  {
   "cell_type": "code",
   "execution_count": 75,
   "metadata": {},
   "outputs": [
    {
     "name": "stdout",
     "output_type": "stream",
     "text": [
      "402665\n",
      "402665\n"
     ]
    }
   ],
   "source": [
    "print(len(tomDecomp))\n",
    "print(len(tomText))"
   ]
  },
  {
   "cell_type": "markdown",
   "metadata": {},
   "source": [
    "and contents"
   ]
  },
  {
   "cell_type": "code",
   "execution_count": 76,
   "metadata": {},
   "outputs": [
    {
     "data": {
      "text/plain": [
       "True"
      ]
     },
     "execution_count": 76,
     "metadata": {},
     "output_type": "execute_result"
    }
   ],
   "source": [
    "tomDecomp == tomText"
   ]
  },
  {
   "cell_type": "markdown",
   "metadata": {},
   "source": [
    "and, finally, compute the elapse time"
   ]
  },
  {
   "cell_type": "code",
   "execution_count": 77,
   "metadata": {},
   "outputs": [
    {
     "name": "stdout",
     "output_type": "stream",
     "text": [
      "0.7617809772491455\n"
     ]
    }
   ],
   "source": [
    "totTime = t1 - t0\n",
    "print(totTime)"
   ]
  },
  {
   "cell_type": "markdown",
   "metadata": {},
   "source": [
    "### Run on The King James version of the Bible"
   ]
  },
  {
   "cell_type": "markdown",
   "metadata": {},
   "source": [
    "Get frequencies for passing to the decoder"
   ]
  },
  {
   "cell_type": "code",
   "execution_count": 78,
   "metadata": {},
   "outputs": [],
   "source": [
    "freqsToDecomp = freqCTR(dictExtractr(bibleText), bibleText)"
   ]
  },
  {
   "cell_type": "markdown",
   "metadata": {},
   "source": [
    "Start a timer"
   ]
  },
  {
   "cell_type": "code",
   "execution_count": 79,
   "metadata": {},
   "outputs": [],
   "source": [
    "t0 = time.time()"
   ]
  },
  {
   "cell_type": "markdown",
   "metadata": {},
   "source": [
    "Decompress"
   ]
  },
  {
   "cell_type": "code",
   "execution_count": 80,
   "metadata": {},
   "outputs": [],
   "source": [
    "bibleDecomp = decoder(bibleCompressed, freqsToDecomp)"
   ]
  },
  {
   "cell_type": "markdown",
   "metadata": {},
   "source": [
    "Stop the timer"
   ]
  },
  {
   "cell_type": "code",
   "execution_count": 81,
   "metadata": {},
   "outputs": [],
   "source": [
    "t1 = time.time()"
   ]
  },
  {
   "cell_type": "markdown",
   "metadata": {},
   "source": [
    "Compare the lengths"
   ]
  },
  {
   "cell_type": "code",
   "execution_count": 82,
   "metadata": {},
   "outputs": [
    {
     "name": "stdout",
     "output_type": "stream",
     "text": [
      "4351875\n",
      "4351875\n"
     ]
    }
   ],
   "source": [
    "print(len(bibleDecomp))\n",
    "print(len(bibleText))"
   ]
  },
  {
   "cell_type": "markdown",
   "metadata": {},
   "source": [
    "and contents"
   ]
  },
  {
   "cell_type": "code",
   "execution_count": 83,
   "metadata": {},
   "outputs": [
    {
     "data": {
      "text/plain": [
       "True"
      ]
     },
     "execution_count": 83,
     "metadata": {},
     "output_type": "execute_result"
    }
   ],
   "source": [
    "bibleDecomp == bibleText"
   ]
  },
  {
   "cell_type": "markdown",
   "metadata": {},
   "source": [
    "and, finally, compute the elapse time"
   ]
  },
  {
   "cell_type": "code",
   "execution_count": 84,
   "metadata": {},
   "outputs": [
    {
     "name": "stdout",
     "output_type": "stream",
     "text": [
      "7.724107980728149\n"
     ]
    }
   ],
   "source": [
    "totTime = t1 - t0\n",
    "print(totTime)"
   ]
  }
 ],
 "metadata": {
  "kernelspec": {
   "display_name": "Python 3",
   "language": "python",
   "name": "python3"
  },
  "language_info": {
   "codemirror_mode": {
    "name": "ipython",
    "version": 3
   },
   "file_extension": ".py",
   "mimetype": "text/x-python",
   "name": "python",
   "nbconvert_exporter": "python",
   "pygments_lexer": "ipython3",
   "version": "3.6.3"
  }
 },
 "nbformat": 4,
 "nbformat_minor": 2
}
