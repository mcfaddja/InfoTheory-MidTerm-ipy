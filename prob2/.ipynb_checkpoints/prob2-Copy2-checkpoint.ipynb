{
 "cells": [
  {
   "cell_type": "markdown",
   "metadata": {},
   "source": [
    "# Problem 2\n",
    "\n",
    "We begin, as always, by importing required libraries followed by defining any functions we are going to create for later use.\n",
    "\n",
    "## Library Imports\n",
    "\n",
    "For this implementation, we will require Python's \"*heapq*\" library so that we can create a priority que."
   ]
  },
  {
   "cell_type": "code",
   "execution_count": 1,
   "metadata": {},
   "outputs": [],
   "source": [
    "import heapq"
   ]
  },
  {
   "cell_type": "markdown",
   "metadata": {},
   "source": [
    "We will also need the \"*csv*\" library so that we can read and write CSV files."
   ]
  },
  {
   "cell_type": "code",
   "execution_count": 2,
   "metadata": {},
   "outputs": [],
   "source": [
    "import csv"
   ]
  },
  {
   "cell_type": "markdown",
   "metadata": {},
   "source": [
    "## Function Definitions\n",
    "\n",
    "We will need several functions of our own to both allow us to endcode/decode using Huffman codes, as a well as to make the later code easier to read and write by moving simple and/or repeated tasks to subroutines of their own.  These subroutines are \n",
    "\n",
    "* File Reader (*for text files*)\n",
    "* File Writer (*for text files*)\n",
    "* File Reader (*for CSV files*)\n",
    "* File Writer (*for CSV files*)\n",
    "* Dictionary Extractor\n",
    "* Freqency Counter\n",
    "* Huffman Tree Maker\n",
    "* Huffman Code Builder\n",
    "\n",
    "### File Reader (*for text files*)\n",
    "\n",
    "We start with the **File Reader** for text files.  We will name it _**fileRDR**_ and its code is"
   ]
  },
  {
   "cell_type": "code",
   "execution_count": 3,
   "metadata": {},
   "outputs": [],
   "source": [
    "def fileRDR(filename):\n",
    "    with open(filename, 'r') as myTextFileIn:\n",
    "        myTextIn = myTextFileIn.read();\n",
    "    \n",
    "        myTextFileIn.close()\n",
    "        \n",
    "    \n",
    "    return myTextIn"
   ]
  },
  {
   "cell_type": "markdown",
   "metadata": {},
   "source": [
    "#### Testing\n",
    "\n",
    "In order to test it, we define a string to have the same contents as those which occur in our *TestTextFile.txt* test file"
   ]
  },
  {
   "cell_type": "code",
   "execution_count": 4,
   "metadata": {},
   "outputs": [],
   "source": [
    "testText = \"This is a test text file\""
   ]
  },
  {
   "cell_type": "markdown",
   "metadata": {},
   "source": [
    "Then we import the file's contents to another string"
   ]
  },
  {
   "cell_type": "code",
   "execution_count": 5,
   "metadata": {},
   "outputs": [],
   "source": [
    "testTextIn = fileRDR(\"TestTextFile.txt\")"
   ]
  },
  {
   "cell_type": "markdown",
   "metadata": {},
   "source": [
    "Last, we check that they are the same and print the string if they are"
   ]
  },
  {
   "cell_type": "code",
   "execution_count": 6,
   "metadata": {},
   "outputs": [
    {
     "name": "stdout",
     "output_type": "stream",
     "text": [
      "This is a test text file\n"
     ]
    }
   ],
   "source": [
    "if testText == testTextIn:\n",
    "    print(testTextIn)\n",
    "else:\n",
    "    print(\"OOOPS!!!\")"
   ]
  },
  {
   "cell_type": "markdown",
   "metadata": {},
   "source": [
    "Since the text file reader works, we move on to the next subroutine.\n",
    "\n",
    "### File Writer (*for text files*)\n",
    "\n",
    "We continue with the **File Writer** for text files.  We will name it _**fileWTR**_ and its code is"
   ]
  },
  {
   "cell_type": "code",
   "execution_count": 7,
   "metadata": {},
   "outputs": [],
   "source": [
    "def fileWTR(filename, strToWrite):\n",
    "    with open(filename, 'w') as myTextFileOut:\n",
    "        myTextFileOut.write(strToWrite)\n",
    "        \n",
    "        myTextFileOut.close()\n",
    "        \n",
    "        \n",
    "    return None"
   ]
  },
  {
   "cell_type": "markdown",
   "metadata": {},
   "source": [
    "#### Testing\n",
    "\n",
    "We test this subroutine by writing our previously defined string **testText** to another file *TestTextFile2.txt* and then reading that new file back in with **fileRDR** and comparing the read result with the original string.  Starting with the write"
   ]
  },
  {
   "cell_type": "code",
   "execution_count": 9,
   "metadata": {},
   "outputs": [],
   "source": [
    "fileWTR(\"TestTextFile2.txt\", testText)"
   ]
  },
  {
   "cell_type": "markdown",
   "metadata": {},
   "source": [
    "we then read the new file back in"
   ]
  },
  {
   "cell_type": "code",
   "execution_count": 10,
   "metadata": {},
   "outputs": [],
   "source": [
    "testTextIn2 = fileRDR(\"TestTextFile2.txt\")"
   ]
  },
  {
   "cell_type": "markdown",
   "metadata": {},
   "source": [
    "and check the see that they are the same"
   ]
  },
  {
   "cell_type": "code",
   "execution_count": 11,
   "metadata": {},
   "outputs": [
    {
     "name": "stdout",
     "output_type": "stream",
     "text": [
      "This is a test text file\n"
     ]
    }
   ],
   "source": [
    "if testText == testTextIn2:\n",
    "    print(testTextIn2)\n",
    "else:\n",
    "    print(\"OOOPS!!!\")"
   ]
  },
  {
   "cell_type": "markdown",
   "metadata": {},
   "source": [
    "Since the text writer works, we move on to CSV file readers and writers.\n",
    "\n",
    "### File Reader (*for CSV files*)\n",
    "\n",
    "Now, we will create a **File Reader** for CSV files.  We will name it _**csvFileRDR**_ and its code is"
   ]
  },
  {
   "cell_type": "code",
   "execution_count": 17,
   "metadata": {},
   "outputs": [],
   "source": [
    "def csvFileRDR(filename):\n",
    "    csvOUT = []\n",
    "    \n",
    "    with open(filename, 'r') as myCSVfileIn:\n",
    "        csvReader = csv.reader(x for x in myCSVfileIn)\n",
    "        \n",
    "        for row in csvReader:\n",
    "            temp = row\n",
    "            csvOUT.append(temp)\n",
    "            \n",
    "        myCSVfileIn.close()\n",
    "        \n",
    "        \n",
    "    return csvOUT"
   ]
  },
  {
   "cell_type": "markdown",
   "metadata": {},
   "source": [
    "#### Testing\n",
    "\n",
    "In order to test our new CSV file reader, we define a string array to have the same contents as those which occur in our *testCSV.csv* test file"
   ]
  },
  {
   "cell_type": "code",
   "execution_count": 20,
   "metadata": {},
   "outputs": [],
   "source": [
    "testCSV = [['a', '1'], ['b', ' 2'], ['c', ' 3'], ['d', ' 4'], ['e', ' 5'], ['f', ' 6'], ['g', ' 7'], ['h', ' 8'], ['i', ' 9'], ['j', '10']]"
   ]
  },
  {
   "cell_type": "markdown",
   "metadata": {},
   "source": [
    "We now import the file's contents to another array"
   ]
  },
  {
   "cell_type": "code",
   "execution_count": 22,
   "metadata": {},
   "outputs": [],
   "source": [
    "testCSVin = csvFileRDR('testCSV.csv')"
   ]
  },
  {
   "cell_type": "markdown",
   "metadata": {},
   "source": [
    "finally checking if they are equal to our previously defined array and printing the array if they are"
   ]
  },
  {
   "cell_type": "code",
   "execution_count": 29,
   "metadata": {},
   "outputs": [
    {
     "name": "stdout",
     "output_type": "stream",
     "text": [
      "['a', ' 1']\n",
      "a\n",
      "a\n",
      "['a', ' 1']\n",
      "1\n",
      "1\n",
      "['b', ' 2']\n",
      "b\n",
      "b\n",
      "['b', ' 2']\n",
      "2\n",
      "2\n",
      "['c', ' 3']\n",
      "c\n",
      "c\n",
      "['c', ' 3']\n",
      "3\n",
      "3\n",
      "['d', ' 4']\n",
      "d\n",
      "d\n",
      "['d', ' 4']\n",
      "4\n",
      "4\n",
      "['e', ' 5']\n",
      "e\n",
      "e\n",
      "['e', ' 5']\n",
      "5\n",
      "5\n",
      "['f', ' 6']\n",
      "f\n",
      "f\n",
      "['f', ' 6']\n",
      "6\n",
      "6\n",
      "['g', ' 7']\n",
      "g\n",
      "g\n",
      "['g', ' 7']\n",
      "7\n",
      "7\n",
      "['h', ' 8']\n",
      "h\n",
      "h\n",
      "['h', ' 8']\n",
      "8\n",
      "8\n",
      "['i', ' 9']\n",
      "i\n",
      "i\n",
      "['i', ' 9']\n",
      "9\n",
      "9\n",
      "['j', ' 10']\n",
      "j\n",
      "j\n",
      "['j', ' 10']\n",
      "10\n",
      "10\n",
      "[['a', ' 1'], ['b', ' 2'], ['c', ' 3'], ['d', ' 4'], ['e', ' 5'], ['f', ' 6'], ['g', ' 7'], ['h', ' 8'], ['i', ' 9'], ['j', ' 10']]\n"
     ]
    }
   ],
   "source": [
    "testCOND = True\n",
    "\n",
    "rowCTR = 0\n",
    "for row in testCSV:\n",
    "    colCTR = 0\n",
    "    \n",
    "    for col in row:\n",
    "        tmpTest = testCSVin[rowCTR]\n",
    "        print(tmpTest)\n",
    "        temp = tmpTest[colCTR]\n",
    "        print(temp.strip())\n",
    "        \n",
    "        print(col.strip())\n",
    "        if temp.strip() == col.strip():\n",
    "            colCTR += 1\n",
    "        else:\n",
    "            testCOND = False\n",
    "            break\n",
    "            \n",
    "    rowCTR += 1\n",
    "    \n",
    "if testCOND:\n",
    "    print(testCSVin)\n",
    "else:\n",
    "    print(\"OOOPS!!!\")"
   ]
  },
  {
   "cell_type": "code",
   "execution_count": null,
   "metadata": {},
   "outputs": [],
   "source": []
  }
 ],
 "metadata": {
  "kernelspec": {
   "display_name": "Python 3",
   "language": "python",
   "name": "python3"
  },
  "language_info": {
   "codemirror_mode": {
    "name": "ipython",
    "version": 3
   },
   "file_extension": ".py",
   "mimetype": "text/x-python",
   "name": "python",
   "nbconvert_exporter": "python",
   "pygments_lexer": "ipython3",
   "version": "3.6.3"
  }
 },
 "nbformat": 4,
 "nbformat_minor": 2
}
