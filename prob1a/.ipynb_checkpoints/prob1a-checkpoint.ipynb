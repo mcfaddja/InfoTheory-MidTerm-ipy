{
 "cells": [
  {
   "cell_type": "markdown",
   "metadata": {},
   "source": [
    "# Problem 1 (a)\n",
    "\n",
    "## Definitions\n",
    "\n",
    "Prior to beginning our work, we load the requiste packages:"
   ]
  },
  {
   "cell_type": "code",
   "execution_count": 1,
   "metadata": {},
   "outputs": [],
   "source": [
    "import math"
   ]
  },
  {
   "cell_type": "markdown",
   "metadata": {},
   "source": [
    "We also load all 26 letters (*in lower case*) into an array for later use.  This is done by importing a text file containing these letters"
   ]
  },
  {
   "cell_type": "code",
   "execution_count": 2,
   "metadata": {},
   "outputs": [],
   "source": [
    "with open('../LowerCaseAlphabet.txt', 'r') as myFile:\n",
    "    lowerAlpha = myFile.readlines()"
   ]
  },
  {
   "cell_type": "markdown",
   "metadata": {},
   "source": [
    "and then stripping the return characters (*\\n*) from each line"
   ]
  },
  {
   "cell_type": "code",
   "execution_count": 3,
   "metadata": {},
   "outputs": [],
   "source": [
    "for i in range(len(lowerAlpha)):\n",
    "    lowerAlpha[i] = lowerAlpha[i].replace('\\n','')\n",
    "\n",
    "lowerAlphaB = ''.join(str(x) for x in lowerAlpha)"
   ]
  },
  {
   "cell_type": "markdown",
   "metadata": {},
   "source": [
    "Finally, we check to see if the alphabet imported properly,"
   ]
  },
  {
   "cell_type": "code",
   "execution_count": 4,
   "metadata": {},
   "outputs": [
    {
     "name": "stdout",
     "output_type": "stream",
     "text": [
      "abcdefghijklmnopqrstuvwxyz\n"
     ]
    }
   ],
   "source": [
    "print(lowerAlphaB)"
   ]
  },
  {
   "cell_type": "markdown",
   "metadata": {},
   "source": [
    "as well as create an upper case version"
   ]
  },
  {
   "cell_type": "code",
   "execution_count": 5,
   "metadata": {},
   "outputs": [],
   "source": [
    "upperAlpha = []\n",
    "for x in lowerAlpha:\n",
    "    upperAlpha.append(x.upper())\n",
    "    \n",
    "upperAlphaB = ''.join(str(x) for x in upperAlpha)"
   ]
  },
  {
   "cell_type": "markdown",
   "metadata": {},
   "source": [
    "and check it"
   ]
  },
  {
   "cell_type": "code",
   "execution_count": 6,
   "metadata": {},
   "outputs": [
    {
     "name": "stdout",
     "output_type": "stream",
     "text": [
      "ABCDEFGHIJKLMNOPQRSTUVWXYZ\n"
     ]
    }
   ],
   "source": [
    "print(upperAlphaB)"
   ]
  },
  {
   "cell_type": "markdown",
   "metadata": {},
   "source": [
    "## Load File\n",
    "\n",
    "We begin our work by loading the text from the source file:"
   ]
  },
  {
   "cell_type": "code",
   "execution_count": 7,
   "metadata": {},
   "outputs": [],
   "source": [
    "with open('../Text-Files/sawyer-ascii.txt', 'r') as myFile:\n",
    "\ttempData = myFile.readlines()"
   ]
  },
  {
   "cell_type": "markdown",
   "metadata": {},
   "source": [
    "Then, we get some basic information about the data imported from the file"
   ]
  },
  {
   "cell_type": "code",
   "execution_count": 8,
   "metadata": {},
   "outputs": [
    {
     "name": "stdout",
     "output_type": "stream",
     "text": [
      "8807\n"
     ]
    }
   ],
   "source": [
    "print(len(tempData))"
   ]
  },
  {
   "cell_type": "markdown",
   "metadata": {},
   "source": [
    "Now, convert the array of strings to a single string."
   ]
  },
  {
   "cell_type": "code",
   "execution_count": 9,
   "metadata": {},
   "outputs": [],
   "source": [
    "data = ''.join(str(x) for x in tempData)"
   ]
  },
  {
   "cell_type": "markdown",
   "metadata": {},
   "source": [
    "Then find and store the length of the resulting string:"
   ]
  },
  {
   "cell_type": "code",
   "execution_count": 10,
   "metadata": {},
   "outputs": [
    {
     "name": "stdout",
     "output_type": "stream",
     "text": [
      "402665\n"
     ]
    }
   ],
   "source": [
    "charCNT = len(data)\n",
    "print(charCNT)"
   ]
  },
  {
   "cell_type": "markdown",
   "metadata": {},
   "source": [
    "Next, the length compare it to the combined length of all the strings in the initial array we got from importing the text file."
   ]
  },
  {
   "cell_type": "code",
   "execution_count": 11,
   "metadata": {},
   "outputs": [
    {
     "name": "stdout",
     "output_type": "stream",
     "text": [
      "402665\n"
     ]
    }
   ],
   "source": [
    "cnt = 0\n",
    "for x in tempData:\n",
    "    cnt = cnt + len(x)\n",
    "\n",
    "print(cnt)"
   ]
  },
  {
   "cell_type": "markdown",
   "metadata": {},
   "source": [
    "Since the character counts are accurate, we can proceed.\n",
    "\n",
    "## Get Character List\n",
    "\n",
    "First, we will obtain a list of all characters occuring in the text"
   ]
  },
  {
   "cell_type": "code",
   "execution_count": 12,
   "metadata": {},
   "outputs": [
    {
     "name": "stdout",
     "output_type": "stream",
     "text": [
      "['+', 'S', 'J', ']', ')', '\\n', 'C', '2', 'e', '[', 'p', 'I', 'E', '9', 'j', 'R', 'q', 'c', '4', 'Q', '/', 't', ':', 'M', 'm', '8', 'V', 'N', 'x', \"'\", '$', '6', 'v', 'b', '_', 'T', '*', 'Y', '3', 'n', 'o', '5', 'D', ' ', 'W', 'H', 'i', '@', '?', 'K', '(', '1', 'a', '.', 'A', 'l', 'k', 'u', 'g', 'B', 'd', '7', '>', 'f', 'L', 'z', 's', 'r', '%', ';', 'X', 'F', ',', '~', 'U', '!', '0', '&', 'P', 'w', 'y', 'h', '<', 'G', '#', '-', '\"', 'O']\n",
      "+SJ])\n",
      "C2e[pIE9jRqc4Q/t:Mm8VNx'$6vb_T*Y3no5D WHi@?K(1a.AlkugBd7>fLzsr%;XF,~U!0&Pwyh<G#-\"O\n"
     ]
    }
   ],
   "source": [
    "myChars = list(set(data))\n",
    "\n",
    "myChars2 = ''.join(str(x) for x in myChars)\n",
    "print(myChars)\n",
    "print(myChars2)"
   ]
  },
  {
   "cell_type": "markdown",
   "metadata": {},
   "source": [
    "Next, we remove our non-alphabetic characters from the list of characters to eliminate"
   ]
  },
  {
   "cell_type": "code",
   "execution_count": 13,
   "metadata": {},
   "outputs": [
    {
     "name": "stdout",
     "output_type": "stream",
     "text": [
      "37\n",
      "+])\n",
      "2[94/:8'$6_*35 @?(1.7>%;,~!0&<#-\"\n"
     ]
    }
   ],
   "source": [
    "for x in lowerAlphaB:\n",
    "    myChars2 = myChars2.replace(x,'')\n",
    "    \n",
    "for x in upperAlphaB:\n",
    "    myChars2 = myChars2.replace(x,'')\n",
    "    \n",
    "print(len(myChars2))\n",
    "print(myChars2)"
   ]
  },
  {
   "cell_type": "markdown",
   "metadata": {},
   "source": [
    "and check the results"
   ]
  },
  {
   "cell_type": "code",
   "execution_count": 14,
   "metadata": {},
   "outputs": [
    {
     "name": "stdout",
     "output_type": "stream",
     "text": [
      "['+', ':', '8', '%', ']', ';', ')', '\\n', '@', '?', '2', \"'\", ',', '$', ' ', '~', '(', '!', '1', '[', '6', '.', '0', '>', '&', '_', '9', '<', '*', '#', '3', '-', '\"', '7', '5', '4', '/']\n",
      "37\n"
     ]
    }
   ],
   "source": [
    "print(list(set(myChars2)))\n",
    "print(len(list(set(myChars2))))"
   ]
  },
  {
   "cell_type": "markdown",
   "metadata": {},
   "source": [
    "## Clean the Text\n",
    "\n",
    "Now, we can eliminate these characters from the text"
   ]
  },
  {
   "cell_type": "code",
   "execution_count": 15,
   "metadata": {},
   "outputs": [],
   "source": [
    "#create copy of imported data\n",
    "data2 = data\n",
    "\n",
    "for x in myChars2:\n",
    "    data2 = data2.replace(x,'')"
   ]
  },
  {
   "cell_type": "markdown",
   "metadata": {},
   "source": [
    "and check to make sure the lengths have changed"
   ]
  },
  {
   "cell_type": "code",
   "execution_count": 16,
   "metadata": {},
   "outputs": [
    {
     "name": "stdout",
     "output_type": "stream",
     "text": [
      "402665\n",
      "307917\n"
     ]
    }
   ],
   "source": [
    "print(len(data))\n",
    "print(len(data2))"
   ]
  },
  {
   "cell_type": "markdown",
   "metadata": {},
   "source": [
    "Last, we convert all letters in the text to lowercase"
   ]
  },
  {
   "cell_type": "code",
   "execution_count": 17,
   "metadata": {},
   "outputs": [],
   "source": [
    "data2 = data2.lower()"
   ]
  },
  {
   "cell_type": "markdown",
   "metadata": {},
   "source": [
    "## Get Frequencies and Probabilities\n",
    "\n",
    "### Frequencies\n",
    "\n",
    "To get the Frequencies of each letter, we first create an array to store them"
   ]
  },
  {
   "cell_type": "code",
   "execution_count": 18,
   "metadata": {},
   "outputs": [],
   "source": [
    "counts = []"
   ]
  },
  {
   "cell_type": "markdown",
   "metadata": {},
   "source": [
    "and then go though the alphabet counting"
   ]
  },
  {
   "cell_type": "code",
   "execution_count": 19,
   "metadata": {},
   "outputs": [
    {
     "name": "stdout",
     "output_type": "stream",
     "text": [
      "[24352, 5221, 6873, 15302, 37080, 6270, 6841, 19997, 19642, 692, 3138, 12565, 7444, 20959, 24325, 4950, 194, 16092, 18376, 29970, 9340, 2474, 8244, 387, 7032, 157]\n",
      "26\n"
     ]
    }
   ],
   "source": [
    "for x in lowerAlpha:\n",
    "    counts.append(data2.count(x))\n",
    "    \n",
    "print(counts)\n",
    "print(len(counts))"
   ]
  },
  {
   "cell_type": "markdown",
   "metadata": {},
   "source": [
    "Now, we can compute the probabilities.  First, we store the number of characters in the cleaned text"
   ]
  },
  {
   "cell_type": "code",
   "execution_count": 20,
   "metadata": {},
   "outputs": [
    {
     "name": "stdout",
     "output_type": "stream",
     "text": [
      "307917\n"
     ]
    }
   ],
   "source": [
    "charTOT = len(data2)\n",
    "\n",
    "print(charTOT)"
   ]
  },
  {
   "cell_type": "markdown",
   "metadata": {},
   "source": [
    "which we check against the frequencies we just calculated"
   ]
  },
  {
   "cell_type": "code",
   "execution_count": 21,
   "metadata": {},
   "outputs": [
    {
     "name": "stdout",
     "output_type": "stream",
     "text": [
      "307917\n"
     ]
    }
   ],
   "source": [
    "print(sum(counts))"
   ]
  },
  {
   "cell_type": "markdown",
   "metadata": {},
   "source": [
    "### Probabilities\n",
    "\n",
    "Again, we first create and empty array to hold the probabilities"
   ]
  },
  {
   "cell_type": "code",
   "execution_count": 22,
   "metadata": {},
   "outputs": [],
   "source": [
    "prbs = []"
   ]
  },
  {
   "cell_type": "markdown",
   "metadata": {},
   "source": [
    "then we loop through the list of frequencies, using them to create each probability"
   ]
  },
  {
   "cell_type": "code",
   "execution_count": 23,
   "metadata": {},
   "outputs": [],
   "source": [
    "for x in counts:\n",
    "    prbs.append(x / charTOT)"
   ]
  },
  {
   "cell_type": "markdown",
   "metadata": {},
   "source": [
    "this gives"
   ]
  },
  {
   "cell_type": "code",
   "execution_count": 24,
   "metadata": {},
   "outputs": [
    {
     "name": "stdout",
     "output_type": "stream",
     "text": [
      "[0.07908624726793259, 0.016955867977409497, 0.022320950126170365, 0.049695210072844304, 0.12042206178937831, 0.02036263018930426, 0.022217026016751268, 0.0649428255016774, 0.0637899174128093, 0.002247358866187966, 0.01019105797991017, 0.04080645108909219, 0.02417534595361737, 0.068067044041089, 0.07899856130061023, 0.01607576067576652, 0.0006300399133532738, 0.05226083652412825, 0.05967841983391628, 0.09733142372782276, 0.03033284943669885, 0.008034632709463915, 0.02677344868909479, 0.0012568321982872007, 0.0228373230448465, 0.0005098776618374432]\n"
     ]
    }
   ],
   "source": [
    "print(prbs)"
   ]
  },
  {
   "cell_type": "markdown",
   "metadata": {},
   "source": [
    "## Entropy Estimate\n",
    "\n",
    "We can now estimate the entropy of the converted text (*all lower case, no special characters, spaces, tabs, or returns*).  To do this, we first initialize a variable to hold our value for the entropy"
   ]
  },
  {
   "cell_type": "code",
   "execution_count": 25,
   "metadata": {},
   "outputs": [],
   "source": [
    "entropTOT = 0"
   ]
  },
  {
   "cell_type": "markdown",
   "metadata": {},
   "source": [
    "Then we loop through all the probabilities, computing the entropy for each and adding it to the total"
   ]
  },
  {
   "cell_type": "code",
   "execution_count": 26,
   "metadata": {},
   "outputs": [],
   "source": [
    "for x in prbs:\n",
    "    entropTOT = entropTOT - x * math.log2(x)"
   ]
  },
  {
   "cell_type": "markdown",
   "metadata": {},
   "source": [
    "to get"
   ]
  },
  {
   "cell_type": "code",
   "execution_count": 27,
   "metadata": {
    "scrolled": true
   },
   "outputs": [
    {
     "name": "stdout",
     "output_type": "stream",
     "text": [
      "4.184820826080936\n"
     ]
    }
   ],
   "source": [
    "print(entropTOT)"
   ]
  }
 ],
 "metadata": {
  "kernelspec": {
   "display_name": "Python 3",
   "language": "python",
   "name": "python3"
  },
  "language_info": {
   "codemirror_mode": {
    "name": "ipython",
    "version": 3
   },
   "file_extension": ".py",
   "mimetype": "text/x-python",
   "name": "python",
   "nbconvert_exporter": "python",
   "pygments_lexer": "ipython3",
   "version": "3.6.3"
  }
 },
 "nbformat": 4,
 "nbformat_minor": 2
}
