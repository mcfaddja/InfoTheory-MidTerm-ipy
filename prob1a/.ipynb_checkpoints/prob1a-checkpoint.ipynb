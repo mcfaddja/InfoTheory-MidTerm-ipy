{
 "cells": [
  {
   "cell_type": "markdown",
   "metadata": {},
   "source": [
    "# Problem 1 (a)\n",
    "\n",
    "## Definitions\n",
    "\n",
    "Prior to beginning our work, we load the requiste packages:"
   ]
  },
  {
   "cell_type": "code",
   "execution_count": 31,
   "metadata": {},
   "outputs": [],
   "source": [
    "import math"
   ]
  },
  {
   "cell_type": "markdown",
   "metadata": {},
   "source": [
    "We also load all 26 letters (*in lower case*) into an array for later use.  This is done by importing a text file containing these letters"
   ]
  },
  {
   "cell_type": "code",
   "execution_count": 32,
   "metadata": {},
   "outputs": [],
   "source": [
    "with open('../LowerCaseAlphabet.txt', 'r') as myFile:\n",
    "    lowerAlpha = myFile.readlines()"
   ]
  },
  {
   "cell_type": "markdown",
   "metadata": {},
   "source": [
    "and then stripping the return characters (*\\n*) from each line"
   ]
  },
  {
   "cell_type": "code",
   "execution_count": 33,
   "metadata": {},
   "outputs": [],
   "source": [
    "for i in range(len(lowerAlpha)):\n",
    "    lowerAlpha[i] = lowerAlpha[i].replace('\\n','')\n",
    "\n",
    "lowerAlphaB = ''.join(str(x) for x in lowerAlpha)"
   ]
  },
  {
   "cell_type": "markdown",
   "metadata": {},
   "source": [
    "Finally, we check to see if the alphabet imported properly,"
   ]
  },
  {
   "cell_type": "code",
   "execution_count": 34,
   "metadata": {},
   "outputs": [
    {
     "name": "stdout",
     "output_type": "stream",
     "text": [
      "abcdefghijklmnopqrstuvwxyz\n"
     ]
    }
   ],
   "source": [
    "print(lowerAlphaB)"
   ]
  },
  {
   "cell_type": "markdown",
   "metadata": {},
   "source": [
    "as well as create an upper case version"
   ]
  },
  {
   "cell_type": "code",
   "execution_count": 35,
   "metadata": {},
   "outputs": [],
   "source": [
    "upperAlpha = []\n",
    "for x in lowerAlpha:\n",
    "    upperAlpha.append(x.upper())\n",
    "    \n",
    "upperAlphaB = ''.join(str(x) for x in upperAlpha)"
   ]
  },
  {
   "cell_type": "markdown",
   "metadata": {},
   "source": [
    "and check it"
   ]
  },
  {
   "cell_type": "code",
   "execution_count": 36,
   "metadata": {},
   "outputs": [
    {
     "name": "stdout",
     "output_type": "stream",
     "text": [
      "ABCDEFGHIJKLMNOPQRSTUVWXYZ\n"
     ]
    }
   ],
   "source": [
    "print(upperAlphaB)"
   ]
  },
  {
   "cell_type": "markdown",
   "metadata": {},
   "source": [
    "## Load File\n",
    "\n",
    "We begin our work by loading the text from the source file:"
   ]
  },
  {
   "cell_type": "code",
   "execution_count": 37,
   "metadata": {},
   "outputs": [],
   "source": [
    "with open('../Text-Files/sawyer-ascii.txt', 'r') as myFile:\n",
    "\ttempData = myFile.readlines()"
   ]
  },
  {
   "cell_type": "markdown",
   "metadata": {},
   "source": [
    "Then, we get some basic information about the data imported from the file"
   ]
  },
  {
   "cell_type": "code",
   "execution_count": 38,
   "metadata": {},
   "outputs": [
    {
     "name": "stdout",
     "output_type": "stream",
     "text": [
      "8807\n"
     ]
    }
   ],
   "source": [
    "print(len(tempData))"
   ]
  },
  {
   "cell_type": "markdown",
   "metadata": {},
   "source": [
    "Now, convert the array of strings to a single string."
   ]
  },
  {
   "cell_type": "code",
   "execution_count": 39,
   "metadata": {},
   "outputs": [],
   "source": [
    "data = ''.join(str(x) for x in tempData)"
   ]
  },
  {
   "cell_type": "markdown",
   "metadata": {},
   "source": [
    "Then find and store the length of the resulting string:"
   ]
  },
  {
   "cell_type": "code",
   "execution_count": 40,
   "metadata": {},
   "outputs": [
    {
     "name": "stdout",
     "output_type": "stream",
     "text": [
      "402665\n"
     ]
    }
   ],
   "source": [
    "charCNT = len(data)\n",
    "print(charCNT)"
   ]
  },
  {
   "cell_type": "markdown",
   "metadata": {},
   "source": [
    "Next, the length compare it to the combined length of all the strings in the initial array we got from importing the text file."
   ]
  },
  {
   "cell_type": "code",
   "execution_count": 41,
   "metadata": {},
   "outputs": [
    {
     "name": "stdout",
     "output_type": "stream",
     "text": [
      "402665\n"
     ]
    }
   ],
   "source": [
    "cnt = 0\n",
    "for x in tempData:\n",
    "    cnt = cnt + len(x)\n",
    "\n",
    "print(cnt)"
   ]
  },
  {
   "cell_type": "markdown",
   "metadata": {},
   "source": [
    "Since the character counts are accurate, we can proceed."
   ]
  },
  {
   "cell_type": "markdown",
   "metadata": {},
   "source": [
    "\n",
    "## Get Character List\n",
    "\n",
    "First, we will obtain a list of all characters occuring in the text"
   ]
  },
  {
   "cell_type": "code",
   "execution_count": 42,
   "metadata": {},
   "outputs": [
    {
     "name": "stdout",
     "output_type": "stream",
     "text": [
      "['k', ';', '+', '\"', '?', \"'\", 'z', 'L', 's', 'Y', 'V', 'U', 'N', 'd', 'x', 'D', 'c', '>', 'R', '@', '3', 'G', ':', '%', 'H', '$', 'P', 'q', '1', '[', 'e', 'p', 'S', '8', 'E', '&', 'K', '.', 'm', 'B', '7', 'a', 'J', 'o', 'w', '~', '\\n', 'T', '(', '<', 'W', '#', 'i', 'Q', '2', '-', 'M', '0', ' ', ')', ',', 'F', 'I', 'O', '!', 'r', 'f', '_', '*', 'X', '5', 'C', 't', 'n', ']', 'y', 'j', '4', 'u', 'g', 'l', 'v', '6', '9', 'h', '/', 'b', 'A']\n",
      "k;+\"?'zLsYVUNdxDc>R@3G:%H$Pq1[epS8E&K.mB7aJow~\n",
      "T(<W#iQ2-M0 ),FIO!rf_*X5Ctn]yj4uglv69h/bA\n"
     ]
    }
   ],
   "source": [
    "myChars = list(set(data))\n",
    "\n",
    "myChars2 = ''.join(str(x) for x in myChars)\n",
    "print(myChars)\n",
    "print(myChars2)"
   ]
  },
  {
   "cell_type": "markdown",
   "metadata": {},
   "source": [
    "Next, we remove our non-alphabetic characters from the list of characters to eliminate"
   ]
  },
  {
   "cell_type": "code",
   "execution_count": 43,
   "metadata": {},
   "outputs": [
    {
     "name": "stdout",
     "output_type": "stream",
     "text": [
      "37\n",
      ";+\"?'>@3:%$1[8&.7~\n",
      "(<#2-0 ),!_*5]469/\n"
     ]
    }
   ],
   "source": [
    "for x in lowerAlphaB:\n",
    "    myChars2 = myChars2.replace(x,'')\n",
    "    \n",
    "for x in upperAlphaB:\n",
    "    myChars2 = myChars2.replace(x,'')\n",
    "    \n",
    "print(len(myChars2))\n",
    "print(myChars2)"
   ]
  },
  {
   "cell_type": "markdown",
   "metadata": {},
   "source": [
    "and check the results"
   ]
  },
  {
   "cell_type": "code",
   "execution_count": 44,
   "metadata": {},
   "outputs": [
    {
     "name": "stdout",
     "output_type": "stream",
     "text": [
      "[':', '_', ';', '%', '*', '+', '$', '\"', '(', '1', '?', '[', '<', '5', '#', \"'\", '3', ']', '8', '&', '2', '-', '4', '.', '0', '>', ' ', '7', '6', ')', '9', ',', '/', '~', '!', '@', '\\n']\n",
      "37\n"
     ]
    }
   ],
   "source": [
    "print(list(set(myChars2)))\n",
    "print(len(list(set(myChars2))))"
   ]
  }
 ],
 "metadata": {
  "kernelspec": {
   "display_name": "Python 3",
   "language": "python",
   "name": "python3"
  },
  "language_info": {
   "codemirror_mode": {
    "name": "ipython",
    "version": 3
   },
   "file_extension": ".py",
   "mimetype": "text/x-python",
   "name": "python",
   "nbconvert_exporter": "python",
   "pygments_lexer": "ipython3",
   "version": "3.6.3"
  }
 },
 "nbformat": 4,
 "nbformat_minor": 2
}
