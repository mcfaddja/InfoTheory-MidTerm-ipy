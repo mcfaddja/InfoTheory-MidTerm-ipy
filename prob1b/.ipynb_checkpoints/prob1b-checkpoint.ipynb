{
 "cells": [
  {
   "cell_type": "markdown",
   "metadata": {},
   "source": [
    "# Problem 1 (b)\n",
    "\n",
    "## Definitions\n",
    "\n",
    "Prior to beginning our work, we load the requiste packages:"
   ]
  },
  {
   "cell_type": "code",
   "execution_count": 1,
   "metadata": {},
   "outputs": [],
   "source": [
    "import math\n",
    "import time\n",
    "\n",
    "t0 = time.time()"
   ]
  },
  {
   "cell_type": "markdown",
   "metadata": {},
   "source": [
    "We also load all 26 letters (*in lower case*) into an array for later use.  This is done by importing a text file containing these letters"
   ]
  },
  {
   "cell_type": "code",
   "execution_count": 2,
   "metadata": {},
   "outputs": [],
   "source": [
    "with open('../LowerCaseAlphabet.txt', 'r') as myFile:\n",
    "    lowerAlpha = myFile.readlines()"
   ]
  },
  {
   "cell_type": "markdown",
   "metadata": {},
   "source": [
    "and then stripping the return characters (*\\n*) from each line"
   ]
  },
  {
   "cell_type": "code",
   "execution_count": 3,
   "metadata": {},
   "outputs": [],
   "source": [
    "for i in range(len(lowerAlpha)):\n",
    "    lowerAlpha[i] = lowerAlpha[i].replace('\\n','')\n",
    "\n",
    "lowerAlphaB = ''.join(str(x) for x in lowerAlpha)"
   ]
  },
  {
   "cell_type": "markdown",
   "metadata": {},
   "source": [
    "Finally, we check to see if the alphabet imported properly,"
   ]
  },
  {
   "cell_type": "code",
   "execution_count": 4,
   "metadata": {},
   "outputs": [
    {
     "name": "stdout",
     "output_type": "stream",
     "text": [
      "abcdefghijklmnopqrstuvwxyz\n"
     ]
    }
   ],
   "source": [
    "print(lowerAlphaB)"
   ]
  },
  {
   "cell_type": "markdown",
   "metadata": {},
   "source": [
    "as well as create an upper case version"
   ]
  },
  {
   "cell_type": "code",
   "execution_count": 5,
   "metadata": {},
   "outputs": [],
   "source": [
    "upperAlpha = []\n",
    "for x in lowerAlpha:\n",
    "    upperAlpha.append(x.upper())\n",
    "    \n",
    "upperAlphaB = ''.join(str(x) for x in upperAlpha)"
   ]
  },
  {
   "cell_type": "markdown",
   "metadata": {},
   "source": [
    "and check it"
   ]
  },
  {
   "cell_type": "code",
   "execution_count": 6,
   "metadata": {},
   "outputs": [
    {
     "name": "stdout",
     "output_type": "stream",
     "text": [
      "ABCDEFGHIJKLMNOPQRSTUVWXYZ\n"
     ]
    }
   ],
   "source": [
    "print(upperAlphaB)"
   ]
  },
  {
   "cell_type": "markdown",
   "metadata": {},
   "source": [
    "## Load File\n",
    "\n",
    "We begin our work by loading the text from the source file:"
   ]
  },
  {
   "cell_type": "code",
   "execution_count": 7,
   "metadata": {},
   "outputs": [],
   "source": [
    "with open('../Text-Files/sawyer-ascii.txt', 'r') as myFile:\n",
    "\ttempData = myFile.readlines()"
   ]
  },
  {
   "cell_type": "markdown",
   "metadata": {},
   "source": [
    "Then, we get some basic information about the data imported from the file"
   ]
  },
  {
   "cell_type": "code",
   "execution_count": 8,
   "metadata": {},
   "outputs": [
    {
     "name": "stdout",
     "output_type": "stream",
     "text": [
      "8807\n"
     ]
    }
   ],
   "source": [
    "print(len(tempData))"
   ]
  },
  {
   "cell_type": "markdown",
   "metadata": {},
   "source": [
    "Now, convert the array of strings to a single string."
   ]
  },
  {
   "cell_type": "code",
   "execution_count": 9,
   "metadata": {},
   "outputs": [],
   "source": [
    "data = ''.join(str(x) for x in tempData)"
   ]
  },
  {
   "cell_type": "markdown",
   "metadata": {},
   "source": [
    "Then find and store the length of the resulting string:"
   ]
  },
  {
   "cell_type": "code",
   "execution_count": 10,
   "metadata": {},
   "outputs": [
    {
     "name": "stdout",
     "output_type": "stream",
     "text": [
      "402665\n"
     ]
    }
   ],
   "source": [
    "charCNT = len(data)\n",
    "print(charCNT)"
   ]
  },
  {
   "cell_type": "markdown",
   "metadata": {},
   "source": [
    "Next, the length compare it to the combined length of all the strings in the initial array we got from importing the text file."
   ]
  },
  {
   "cell_type": "code",
   "execution_count": 11,
   "metadata": {},
   "outputs": [
    {
     "name": "stdout",
     "output_type": "stream",
     "text": [
      "402665\n"
     ]
    }
   ],
   "source": [
    "cnt = 0\n",
    "for x in tempData:\n",
    "    cnt = cnt + len(x)\n",
    "\n",
    "print(cnt)"
   ]
  },
  {
   "cell_type": "markdown",
   "metadata": {},
   "source": [
    "Since the character counts are accurate, we can proceed."
   ]
  },
  {
   "cell_type": "markdown",
   "metadata": {},
   "source": [
    "\n",
    "## Get Character List\n",
    "\n",
    "First, we will obtain a list of all characters occuring in the text"
   ]
  },
  {
   "cell_type": "code",
   "execution_count": 12,
   "metadata": {},
   "outputs": [
    {
     "name": "stdout",
     "output_type": "stream",
     "text": [
      "['.', 'K', 'E', '6', 'W', '3', 'G', '+', '4', 'Q', 'k', 'M', ',', 'a', 'J', ']', 'm', 'x', 'P', 'd', '9', '~', 't', '0', \"'\", 'C', 'D', 'u', '8', '(', 'g', 'X', '&', 'F', 'U', 'y', 'O', '@', 'S', 'q', 'R', '/', '2', 'A', 'f', 'l', 'w', 's', 'L', '\"', '#', 'B', ')', 'H', 'n', 'v', '[', 'Y', '<', '%', ' ', '5', 'p', 'N', 'I', 'r', '!', 'e', '*', 'h', 'z', ';', '-', '\\n', '_', 'T', '1', '>', 'o', '$', 'j', 'b', '7', 'c', 'i', ':', '?', 'V']\n",
      ".KE6W3G+4QkM,aJ]mxPd9~t0'CDu8(gX&FUyO@SqR/2AflwsL\"#B)Hnv[Y<% 5pNIr!e*hz;-\n",
      "_T1>o$jb7ci:?V\n"
     ]
    }
   ],
   "source": [
    "myChars = list(set(data))\n",
    "\n",
    "myChars2 = ''.join(str(x) for x in myChars)\n",
    "print(myChars)\n",
    "print(myChars2)"
   ]
  },
  {
   "cell_type": "markdown",
   "metadata": {},
   "source": [
    "Next, we remove our non-alphabetic characters from the list of characters to eliminate"
   ]
  },
  {
   "cell_type": "code",
   "execution_count": 13,
   "metadata": {},
   "outputs": [
    {
     "name": "stdout",
     "output_type": "stream",
     "text": [
      "37\n",
      ".63+4,]9~0'8(&@/2\"#)[<% 5!*;-\n",
      "_1>$7:?\n"
     ]
    }
   ],
   "source": [
    "for x in lowerAlphaB:\n",
    "    myChars2 = myChars2.replace(x,'')\n",
    "    \n",
    "for x in upperAlphaB:\n",
    "    myChars2 = myChars2.replace(x,'')\n",
    "    \n",
    "print(len(myChars2))\n",
    "print(myChars2)"
   ]
  },
  {
   "cell_type": "markdown",
   "metadata": {},
   "source": [
    "and check the results"
   ]
  },
  {
   "cell_type": "code",
   "execution_count": 14,
   "metadata": {},
   "outputs": [
    {
     "name": "stdout",
     "output_type": "stream",
     "text": [
      "['.', '*', ';', '9', '6', '3', '-', '\\n', '~', '+', '_', '0', \"'\", '\"', '#', '4', '8', '(', ')', '1', '&', '>', '@', ',', '[', '<', '$', '%', '/', '7', ' ', '5', ':', '?', '2', ']', '!']\n",
      "37\n"
     ]
    }
   ],
   "source": [
    "print(list(set(myChars2)))\n",
    "print(len(list(set(myChars2))))"
   ]
  },
  {
   "cell_type": "markdown",
   "metadata": {},
   "source": [
    "## Clean the Text\n",
    "\n",
    "Now, we can eliminate these characters from the text"
   ]
  },
  {
   "cell_type": "code",
   "execution_count": 15,
   "metadata": {},
   "outputs": [],
   "source": [
    "#create copy of imported data\n",
    "data2 = data\n",
    "\n",
    "for x in myChars2:\n",
    "    data2 = data2.replace(x,'')"
   ]
  },
  {
   "cell_type": "markdown",
   "metadata": {},
   "source": [
    "and check to make sure the lengths have changed"
   ]
  },
  {
   "cell_type": "code",
   "execution_count": 16,
   "metadata": {},
   "outputs": [
    {
     "name": "stdout",
     "output_type": "stream",
     "text": [
      "402665\n",
      "307917\n"
     ]
    }
   ],
   "source": [
    "print(len(data))\n",
    "print(len(data2))"
   ]
  },
  {
   "cell_type": "markdown",
   "metadata": {},
   "source": [
    "Last, we convert all letters in the text to lowercase"
   ]
  },
  {
   "cell_type": "code",
   "execution_count": 17,
   "metadata": {},
   "outputs": [],
   "source": [
    "data2 = data2.lower()"
   ]
  },
  {
   "cell_type": "markdown",
   "metadata": {},
   "source": [
    "## Generate N-Grams\n",
    "\n",
    "For the next part, we will need lists of Bi-Grams and Tri-Grams based off the lowercase english alphabet.  We start with Bi-Grams\n",
    "\n",
    "### Bi-Grams\n",
    "\n",
    "We begin with the array of lowercase alphabetic characters for the english language; however, we must first define an empty array to hold the Bi-Grams that we will generate.  After which, we loop through the lowercase alphabet twice, joining each pair and appending the new pair to our array."
   ]
  },
  {
   "cell_type": "code",
   "execution_count": 18,
   "metadata": {},
   "outputs": [
    {
     "name": "stdout",
     "output_type": "stream",
     "text": [
      "676\n"
     ]
    }
   ],
   "source": [
    "myBiGrams = []\n",
    "\n",
    "for xx in lowerAlpha:\n",
    "    for yy in lowerAlpha:\n",
    "        temp = ''.join(str(xyz) for xyz in [xx,yy])\n",
    "        myBiGrams.append(temp)\n",
    "        \n",
    "print(len(myBiGrams))"
   ]
  },
  {
   "cell_type": "markdown",
   "metadata": {},
   "source": [
    "Checking that the number of Bi-Grams we generated is correct, we have"
   ]
  },
  {
   "cell_type": "code",
   "execution_count": 19,
   "metadata": {},
   "outputs": [
    {
     "name": "stdout",
     "output_type": "stream",
     "text": [
      "676\n"
     ]
    }
   ],
   "source": [
    "print(26*26)"
   ]
  },
  {
   "cell_type": "markdown",
   "metadata": {},
   "source": [
    "### Tri-Grams\n",
    "\n",
    "Again, we begin with the array of lowercase alphabetic characters for the english language; however, we must first define an empty array to hold the Tri-Grams that we will generate.  After which, we loop through the lowercase alphabet three times, joining each triplet and appending the new triplet to our array."
   ]
  },
  {
   "cell_type": "code",
   "execution_count": 20,
   "metadata": {},
   "outputs": [
    {
     "name": "stdout",
     "output_type": "stream",
     "text": [
      "17576\n"
     ]
    }
   ],
   "source": [
    "myTriGrams = []\n",
    "\n",
    "for xx in lowerAlpha:\n",
    "    for yy in lowerAlpha:\n",
    "        for zz in lowerAlpha:\n",
    "            temp = ''.join(str(xyz) for xyz in [xx,yy,zz])\n",
    "            myTriGrams.append(temp)\n",
    "        \n",
    "print(len(myTriGrams))"
   ]
  },
  {
   "cell_type": "markdown",
   "metadata": {},
   "source": [
    "Checking that the number of Tri-Grams we generated is correct, we have"
   ]
  },
  {
   "cell_type": "code",
   "execution_count": 21,
   "metadata": {},
   "outputs": [
    {
     "name": "stdout",
     "output_type": "stream",
     "text": [
      "17576\n"
     ]
    }
   ],
   "source": [
    "print(26*26*26)"
   ]
  },
  {
   "cell_type": "markdown",
   "metadata": {},
   "source": [
    "### Quad-Grams\n",
    "\n",
    "Again, we begin with the array of lowercase alphabetic characters for the english language; however, we must first define an empty array to hold the Quad-Grams that we will generate.  After which, we loop through the lowercase alphabet four times, joining each quadruplet and appending the new quadruplet to our array."
   ]
  },
  {
   "cell_type": "code",
   "execution_count": 22,
   "metadata": {},
   "outputs": [
    {
     "name": "stdout",
     "output_type": "stream",
     "text": [
      "456976\n"
     ]
    }
   ],
   "source": [
    "myQuadGrams = []\n",
    "\n",
    "for ww in lowerAlpha:\n",
    "    for xx in lowerAlpha:\n",
    "        for yy in lowerAlpha:\n",
    "            for zz in lowerAlpha:\n",
    "                temp = ''.join(str(wxyz) for wxyz in [ww,xx,yy,zz])\n",
    "                myQuadGrams.append(temp)\n",
    "        \n",
    "print(len(myQuadGrams))"
   ]
  },
  {
   "cell_type": "markdown",
   "metadata": {},
   "source": [
    "Checking that the number of Tri-Grams we generated is correct, we have"
   ]
  },
  {
   "cell_type": "code",
   "execution_count": 23,
   "metadata": {},
   "outputs": [
    {
     "name": "stdout",
     "output_type": "stream",
     "text": [
      "456976\n"
     ]
    }
   ],
   "source": [
    "print(26*26*26*26)"
   ]
  },
  {
   "cell_type": "markdown",
   "metadata": {},
   "source": [
    "## Get Frequencies and Probabilities\n",
    "\n",
    "### Frequencies\n",
    "\n",
    "To get the Frequencies of each letter, we first create an arrays to store them for Bi-Grams and Tri-Grams"
   ]
  },
  {
   "cell_type": "code",
   "execution_count": 24,
   "metadata": {},
   "outputs": [],
   "source": [
    "counts = []\n",
    "cntsBI= []\n",
    "cntsTRI = []\n",
    "cntsQUAD = []"
   ]
  },
  {
   "cell_type": "markdown",
   "metadata": {},
   "source": [
    "and then go through the alphabet counting"
   ]
  },
  {
   "cell_type": "code",
   "execution_count": 25,
   "metadata": {},
   "outputs": [
    {
     "name": "stdout",
     "output_type": "stream",
     "text": [
      "26\n",
      "[24352, 5221, 6873, 15302, 37080, 6270, 6841, 19997, 19642, 692, 3138, 12565, 7444, 20959, 24325, 4950, 194, 16092, 18376, 29970, 9340, 2474, 8244, 387, 7032, 157]\n"
     ]
    }
   ],
   "source": [
    "for x in lowerAlpha:\n",
    "    counts.append(data2.count(x))\n",
    "    \n",
    "print(len(counts))\n",
    "print(counts)"
   ]
  },
  {
   "cell_type": "markdown",
   "metadata": {},
   "source": [
    "and then go though the Bi-Grams counting"
   ]
  },
  {
   "cell_type": "code",
   "execution_count": 26,
   "metadata": {},
   "outputs": [
    {
     "name": "stdout",
     "output_type": "stream",
     "text": [
      "676\n"
     ]
    }
   ],
   "source": [
    "for x in myBiGrams:\n",
    "    cntsBI.append(data2.count(x))\n",
    "    \n",
    "print(len(cntsBI))"
   ]
  },
  {
   "cell_type": "markdown",
   "metadata": {},
   "source": [
    "and then the Tri-Grams counting"
   ]
  },
  {
   "cell_type": "code",
   "execution_count": 27,
   "metadata": {},
   "outputs": [
    {
     "name": "stdout",
     "output_type": "stream",
     "text": [
      "17576\n"
     ]
    }
   ],
   "source": [
    "for x in myTriGrams:\n",
    "    cntsTRI.append(data2.count(x))\n",
    "    \n",
    "print(len(cntsTRI))"
   ]
  },
  {
   "cell_type": "markdown",
   "metadata": {},
   "source": [
    "and then the Quad-Grams counting"
   ]
  },
  {
   "cell_type": "code",
   "execution_count": 28,
   "metadata": {},
   "outputs": [
    {
     "name": "stdout",
     "output_type": "stream",
     "text": [
      "456976\n"
     ]
    }
   ],
   "source": [
    "for x in myQuadGrams:\n",
    "    cntsQUAD.append(data2.count(x))\n",
    "    \n",
    "print(len(cntsQUAD))"
   ]
  },
  {
   "cell_type": "markdown",
   "metadata": {},
   "source": [
    "### Character and N-Gram totals\n",
    "\n",
    "Now, we can compute the probabilities.  First, we store the number of characters in the cleaned text"
   ]
  },
  {
   "cell_type": "code",
   "execution_count": 29,
   "metadata": {},
   "outputs": [
    {
     "name": "stdout",
     "output_type": "stream",
     "text": [
      "307917\n"
     ]
    }
   ],
   "source": [
    "charTOT = len(data2)\n",
    "\n",
    "print(charTOT)"
   ]
  },
  {
   "cell_type": "markdown",
   "metadata": {},
   "source": [
    "which we check against the frequencies we just calculated"
   ]
  },
  {
   "cell_type": "code",
   "execution_count": 30,
   "metadata": {},
   "outputs": [
    {
     "name": "stdout",
     "output_type": "stream",
     "text": [
      "307917\n"
     ]
    }
   ],
   "source": [
    "print(sum(counts))"
   ]
  },
  {
   "cell_type": "markdown",
   "metadata": {},
   "source": [
    "Then we compute the number of Bi-, Tri-, and Quad- Grams based on the total number of characters in the text"
   ]
  },
  {
   "cell_type": "code",
   "execution_count": 31,
   "metadata": {},
   "outputs": [],
   "source": [
    "biTOT = math.floor(charTOT / 2)\n",
    "triTOT = math.floor(charTOT / 3)\n",
    "quadTOT = math.floor(charTOT / 4)"
   ]
  },
  {
   "cell_type": "markdown",
   "metadata": {},
   "source": [
    "which gives"
   ]
  },
  {
   "cell_type": "code",
   "execution_count": 32,
   "metadata": {},
   "outputs": [
    {
     "name": "stdout",
     "output_type": "stream",
     "text": [
      "153958\n",
      "102639\n",
      "76979\n"
     ]
    }
   ],
   "source": [
    "print(biTOT)\n",
    "print(triTOT)\n",
    "print(quadTOT)"
   ]
  },
  {
   "cell_type": "markdown",
   "metadata": {},
   "source": [
    "### Probabilities\n",
    "\n",
    "Again, we first create and empty array to hold the probabilities for single characters, as well as all our N-Grams"
   ]
  },
  {
   "cell_type": "code",
   "execution_count": 33,
   "metadata": {},
   "outputs": [],
   "source": [
    "prbs = []\n",
    "biPRBS = []\n",
    "triPRBS = []\n",
    "quadPRBS = []"
   ]
  },
  {
   "cell_type": "markdown",
   "metadata": {},
   "source": [
    "then we loop through the list of frequencies, using them to create each probability"
   ]
  },
  {
   "cell_type": "code",
   "execution_count": 34,
   "metadata": {},
   "outputs": [],
   "source": [
    "for x in counts:\n",
    "    prbs.append(x / charTOT)\n",
    "    \n",
    "for x in cntsBI:\n",
    "    biPRBS.append(x / biTOT)\n",
    "        \n",
    "for x in cntsTRI:\n",
    "    triPRBS.append(x / triTOT)\n",
    "    \n",
    "for x in cntsQUAD:\n",
    "    quadPRBS.append(x / quadTOT)        "
   ]
  },
  {
   "cell_type": "markdown",
   "metadata": {},
   "source": [
    "this gives"
   ]
  },
  {
   "cell_type": "code",
   "execution_count": 35,
   "metadata": {},
   "outputs": [
    {
     "name": "stdout",
     "output_type": "stream",
     "text": [
      "[0.07908624726793259, 0.016955867977409497, 0.022320950126170365, 0.049695210072844304, 0.12042206178937831, 0.02036263018930426, 0.022217026016751268, 0.0649428255016774, 0.0637899174128093, 0.002247358866187966, 0.01019105797991017, 0.04080645108909219, 0.02417534595361737, 0.068067044041089, 0.07899856130061023, 0.01607576067576652, 0.0006300399133532738, 0.05226083652412825, 0.05967841983391628, 0.09733142372782276, 0.03033284943669885, 0.008034632709463915, 0.02677344868909479, 0.0012568321982872007, 0.0228373230448465, 0.0005098776618374432]\n"
     ]
    }
   ],
   "source": [
    "print(prbs)"
   ]
  },
  {
   "cell_type": "markdown",
   "metadata": {},
   "source": [
    "for the single characters and array sizes for the others as"
   ]
  },
  {
   "cell_type": "code",
   "execution_count": 36,
   "metadata": {},
   "outputs": [
    {
     "name": "stdout",
     "output_type": "stream",
     "text": [
      "676\n",
      "17576\n",
      "456976\n"
     ]
    }
   ],
   "source": [
    "print(len(biPRBS))\n",
    "print(len(triPRBS))\n",
    "print(len(quadPRBS))"
   ]
  },
  {
   "cell_type": "markdown",
   "metadata": {},
   "source": [
    "## Entropy Estimate\n",
    "\n",
    "### Single Characters\n",
    "\n",
    "We can now estimate the entropy of the converted text (*all lower case, no special characters, spaces, tabs, or returns*).  To do this, we first initialize a variable to hold our value for the entropy"
   ]
  },
  {
   "cell_type": "code",
   "execution_count": 37,
   "metadata": {},
   "outputs": [],
   "source": [
    "entropTOT = 0"
   ]
  },
  {
   "cell_type": "markdown",
   "metadata": {},
   "source": [
    "Then we loop through all the probabilities, computing the entropy for each and adding it to the total"
   ]
  },
  {
   "cell_type": "code",
   "execution_count": 38,
   "metadata": {},
   "outputs": [],
   "source": [
    "for x in prbs:\n",
    "    entropTOT = entropTOT - x * math.log2(x)"
   ]
  },
  {
   "cell_type": "markdown",
   "metadata": {},
   "source": [
    "to get"
   ]
  },
  {
   "cell_type": "code",
   "execution_count": 39,
   "metadata": {},
   "outputs": [
    {
     "name": "stdout",
     "output_type": "stream",
     "text": [
      "4.184820826080936\n"
     ]
    }
   ],
   "source": [
    "print(entropTOT)"
   ]
  },
  {
   "cell_type": "markdown",
   "metadata": {},
   "source": [
    "### Bi-Grams\n",
    "\n",
    "For Bi-Grams, we first initialize a variable to hold our value for the entropy"
   ]
  },
  {
   "cell_type": "code",
   "execution_count": 40,
   "metadata": {},
   "outputs": [],
   "source": [
    "biEntropTOT = 0"
   ]
  },
  {
   "cell_type": "markdown",
   "metadata": {},
   "source": [
    "Then we loop through all the Bi-Gram Probabilities"
   ]
  },
  {
   "cell_type": "code",
   "execution_count": 41,
   "metadata": {},
   "outputs": [
    {
     "name": "stdout",
     "output_type": "stream",
     "text": [
      "676\n",
      "13.561376307716296\n"
     ]
    }
   ],
   "source": [
    "testI = 0\n",
    "for x in biPRBS:\n",
    "    testI += 1\n",
    "    \n",
    "    if x == 0.0:\n",
    "        biEntropTOT = biEntropTOT\n",
    "    else:\n",
    "        biEntropTOT = biEntropTOT - x * math.log2(x)\n",
    "\n",
    "        \n",
    "print(testI)\n",
    "print(biEntropTOT)"
   ]
  },
  {
   "cell_type": "markdown",
   "metadata": {},
   "source": [
    "### Tri-Grams\n",
    "\n",
    "For Tr-Grams, we first initialize a variable to hold our value for the entropy"
   ]
  },
  {
   "cell_type": "code",
   "execution_count": 42,
   "metadata": {},
   "outputs": [],
   "source": [
    "triEntropTOT = 0"
   ]
  },
  {
   "cell_type": "markdown",
   "metadata": {},
   "source": [
    "Then we loop through all the Tri-Gram Probabilities"
   ]
  },
  {
   "cell_type": "code",
   "execution_count": 43,
   "metadata": {},
   "outputs": [
    {
     "name": "stdout",
     "output_type": "stream",
     "text": [
      "17576\n",
      "27.92124606372456\n"
     ]
    }
   ],
   "source": [
    "testI = 0\n",
    "for x in triPRBS:\n",
    "    testI += 1\n",
    "    \n",
    "    if x == 0.0:\n",
    "        triEntropTOT = triEntropTOT\n",
    "    else:\n",
    "        triEntropTOT = triEntropTOT - x * math.log2(x)\n",
    "\n",
    "        \n",
    "print(testI)\n",
    "print(triEntropTOT)"
   ]
  },
  {
   "cell_type": "markdown",
   "metadata": {},
   "source": [
    "### Quad-Grams\n",
    "\n",
    "For Quad-Grams, we first initialize a variable to hold our value for the entropy"
   ]
  },
  {
   "cell_type": "code",
   "execution_count": 44,
   "metadata": {},
   "outputs": [],
   "source": [
    "quadEntropTOT = 0"
   ]
  },
  {
   "cell_type": "markdown",
   "metadata": {},
   "source": [
    "Then we loop through all the Qaud-Gram Probabilities"
   ]
  },
  {
   "cell_type": "code",
   "execution_count": 45,
   "metadata": {},
   "outputs": [
    {
     "name": "stdout",
     "output_type": "stream",
     "text": [
      "456976\n",
      "45.63916839392134\n"
     ]
    }
   ],
   "source": [
    "testI = 0\n",
    "for x in quadPRBS:\n",
    "    testI += 1\n",
    "    \n",
    "    if x == 0.0:\n",
    "        quadEntropTOT = quadEntropTOT\n",
    "    else:\n",
    "        quadEntropTOT = quadEntropTOT - x * math.log2(x)\n",
    "\n",
    "        \n",
    "print(testI)\n",
    "print(quadEntropTOT)"
   ]
  },
  {
   "cell_type": "markdown",
   "metadata": {},
   "source": [
    "## Times\n",
    "\n",
    "Overall, it took"
   ]
  },
  {
   "cell_type": "code",
   "execution_count": 46,
   "metadata": {},
   "outputs": [
    {
     "name": "stdout",
     "output_type": "stream",
     "text": [
      "114.95728206634521\n"
     ]
    }
   ],
   "source": [
    "t1 = time.time()\n",
    "print(t1-t0)"
   ]
  }
 ],
 "metadata": {
  "kernelspec": {
   "display_name": "Python 3",
   "language": "python",
   "name": "python3"
  },
  "language_info": {
   "codemirror_mode": {
    "name": "ipython",
    "version": 3
   },
   "file_extension": ".py",
   "mimetype": "text/x-python",
   "name": "python",
   "nbconvert_exporter": "python",
   "pygments_lexer": "ipython3",
   "version": "3.6.3"
  }
 },
 "nbformat": 4,
 "nbformat_minor": 2
}
